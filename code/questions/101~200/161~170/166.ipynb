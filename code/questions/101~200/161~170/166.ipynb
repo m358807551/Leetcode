{
 "cells": [
  {
   "cell_type": "markdown",
   "metadata": {},
   "source": [
    "[166. 分数到小数](https://leetcode-cn.com/problems/fraction-to-recurring-decimal/)"
   ]
  },
  {
   "cell_type": "code",
   "execution_count": 11,
   "metadata": {},
   "outputs": [],
   "source": [
    "class Solution(object):\n",
    "    def fractionToDecimal(self, numerator, denominator):\n",
    "        d = {}\n",
    "        rst = \"-\" if numerator * denominator < 0 else \"\"\n",
    "        numerator, denominator = abs(numerator), abs(denominator)\n",
    "        while numerator:\n",
    "            if numerator < denominator:\n",
    "                numerator *= 10\n",
    "                if not d:  # 第一次到小数点后\n",
    "                    rst += \"0.\" if rst in [\"-\", \"\"] else \".\"\n",
    "                if numerator in d:  # 该被除数在小数部分出现过\n",
    "                    i = d[numerator]\n",
    "                    rst = rst[:i] + \"(\" + rst[i:] + \")\"\n",
    "                    break\n",
    "                d[numerator] = len(rst)\n",
    "            rst += str(numerator // denominator)\n",
    "            numerator = numerator % denominator\n",
    "        return rst or \"0\""
   ]
  },
  {
   "cell_type": "code",
   "execution_count": 12,
   "metadata": {},
   "outputs": [
    {
     "data": {
      "text/plain": [
       "'-0.(3)'"
      ]
     },
     "execution_count": 12,
     "metadata": {},
     "output_type": "execute_result"
    }
   ],
   "source": [
    "Solution().fractionToDecimal(-1, 3)"
   ]
  },
  {
   "cell_type": "code",
   "execution_count": null,
   "metadata": {},
   "outputs": [],
   "source": []
  }
 ],
 "metadata": {
  "kernelspec": {
   "display_name": "Python 3",
   "language": "python",
   "name": "python3"
  },
  "language_info": {
   "codemirror_mode": {
    "name": "ipython",
    "version": 3
   },
   "file_extension": ".py",
   "mimetype": "text/x-python",
   "name": "python",
   "nbconvert_exporter": "python",
   "pygments_lexer": "ipython3",
   "version": "3.6.10"
  }
 },
 "nbformat": 4,
 "nbformat_minor": 4
}
