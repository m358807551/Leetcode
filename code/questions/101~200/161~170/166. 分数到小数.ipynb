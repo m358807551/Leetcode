{
 "cells": [
  {
   "cell_type": "markdown",
   "metadata": {},
   "source": [
    "[166. 分数到小数](https://leetcode-cn.com/problems/fraction-to-recurring-decimal/)"
   ]
  },
  {
   "cell_type": "code",
   "execution_count": 15,
   "metadata": {},
   "outputs": [],
   "source": [
    "class Solution(object):\n",
    "    def fractionToDecimal(self, numerator, denominator):\n",
    "        \"\"\"\n",
    "        :type numerator: int\n",
    "        :type denominator: int\n",
    "        :rtype: str\n",
    "        \"\"\"\n",
    "        neg = True if numerator * denominator < 0 else False\n",
    "        n, d = abs(numerator), abs(denominator)\n",
    "        rst = \"-\" if neg else \"\"\n",
    "        rst += str(n//d)\n",
    "        n = n % d\n",
    "        if n:\n",
    "            rst += \".\"\n",
    "        dic = {}\n",
    "        while n:\n",
    "            if (n, d) in dic:\n",
    "                i = dic[(n, d)]\n",
    "                rst = rst[:i] + \"(\" + rst[i:] + \")\"\n",
    "                break\n",
    "            dic[(n, d)] = len(rst)\n",
    "            n *= 10\n",
    "            rst += str(n//d)\n",
    "            n = n % d\n",
    "        return rst"
   ]
  },
  {
   "cell_type": "code",
   "execution_count": 18,
   "metadata": {},
   "outputs": [
    {
     "data": {
      "text/plain": [
       "'0.(012)'"
      ]
     },
     "execution_count": 18,
     "metadata": {},
     "output_type": "execute_result"
    }
   ],
   "source": [
    "Solution().fractionToDecimal(4, 333)"
   ]
  }
 ],
 "metadata": {
  "kernelspec": {
   "display_name": "Python 3",
   "language": "python",
   "name": "python3"
  },
  "language_info": {
   "codemirror_mode": {
    "name": "ipython",
    "version": 3
   },
   "file_extension": ".py",
   "mimetype": "text/x-python",
   "name": "python",
   "nbconvert_exporter": "python",
   "pygments_lexer": "ipython3",
   "version": "3.6.10"
  }
 },
 "nbformat": 4,
 "nbformat_minor": 4
}
