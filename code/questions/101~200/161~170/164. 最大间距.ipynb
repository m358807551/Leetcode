{
 "cells": [
  {
   "cell_type": "markdown",
   "metadata": {},
   "source": [
    "[164. 最大间距](https://leetcode-cn.com/problems/maximum-gap/)"
   ]
  },
  {
   "cell_type": "code",
   "execution_count": 18,
   "metadata": {},
   "outputs": [],
   "source": [
    "class Solution(object):\n",
    "    def maximumGap(self, nums):\n",
    "        \"\"\"\n",
    "        :type nums: List[int]\n",
    "        :rtype: int\n",
    "        \"\"\"\n",
    "        if len(nums) < 2:\n",
    "            return 0\n",
    "        max_, min_ = max(nums), min(nums)\n",
    "        b_len = max(1, (max_ - min_) // len(nums))\n",
    "        b_size = max_ // b_len + 1\n",
    "        buckets = [[] for _ in range(b_size)]\n",
    "        for num in nums:\n",
    "            buckets[(num-min_)//b_len].append(num)\n",
    "        rst = 0\n",
    "        left = None\n",
    "        for bucket in buckets:\n",
    "            if not bucket:\n",
    "                continue\n",
    "            if left is None:\n",
    "                left = max(bucket)\n",
    "            else:\n",
    "                rst = max(rst, min(bucket)-left)\n",
    "                left = max(bucket)\n",
    "        return rst"
   ]
  },
  {
   "cell_type": "code",
   "execution_count": 19,
   "metadata": {},
   "outputs": [
    {
     "data": {
      "text/plain": [
       "1"
      ]
     },
     "execution_count": 19,
     "metadata": {},
     "output_type": "execute_result"
    }
   ],
   "source": [
    "Solution().maximumGap([1,2,1,1])"
   ]
  },
  {
   "cell_type": "code",
   "execution_count": 20,
   "metadata": {},
   "outputs": [
    {
     "data": {
      "text/plain": [
       "1"
      ]
     },
     "execution_count": 20,
     "metadata": {},
     "output_type": "execute_result"
    }
   ],
   "source": [
    "Solution().maximumGap(\n",
    "    [3, 4, 5, 2, 1]\n",
    ")"
   ]
  },
  {
   "cell_type": "code",
   "execution_count": 10,
   "metadata": {},
   "outputs": [
    {
     "data": {
      "text/plain": [
       "4294967296"
      ]
     },
     "execution_count": 10,
     "metadata": {},
     "output_type": "execute_result"
    }
   ],
   "source": [
    "1 << 32"
   ]
  }
 ],
 "metadata": {
  "kernelspec": {
   "display_name": "Python 3",
   "language": "python",
   "name": "python3"
  },
  "language_info": {
   "codemirror_mode": {
    "name": "ipython",
    "version": 3
   },
   "file_extension": ".py",
   "mimetype": "text/x-python",
   "name": "python",
   "nbconvert_exporter": "python",
   "pygments_lexer": "ipython3",
   "version": "3.6.10"
  }
 },
 "nbformat": 4,
 "nbformat_minor": 4
}
