{
 "cells": [
  {
   "cell_type": "markdown",
   "metadata": {},
   "source": [
    "[140. 单词拆分 II](https://leetcode-cn.com/problems/word-break-ii/)"
   ]
  },
  {
   "cell_type": "code",
   "execution_count": 11,
   "metadata": {},
   "outputs": [],
   "source": [
    "class Solution(object):\n",
    "    def wordBreak(self, s, wordDict):\n",
    "        \"\"\"\n",
    "        :type s: str\n",
    "        :type wordDict: List[str]\n",
    "        :rtype: List[str]\n",
    "        \"\"\"\n",
    "        self.rst = []\n",
    "        self.backtrace([], s, wordDict)\n",
    "        return self.rst\n",
    "    \n",
    "    def backtrace(self, trace, s, wordDict):\n",
    "        if not s:\n",
    "            self.rst.append(\" \".join(trace))\n",
    "            return\n",
    "        for word in wordDict:\n",
    "            if s[:len(word)] == word:\n",
    "                trace.append(word)\n",
    "                self.backtrace(trace, s[len(word):], wordDict)\n",
    "                trace.pop(-1)"
   ]
  },
  {
   "cell_type": "code",
   "execution_count": 13,
   "metadata": {},
   "outputs": [
    {
     "data": {
      "text/plain": [
       "['pine apple pen apple', 'pine applepen apple', 'pineapple pen apple']"
      ]
     },
     "execution_count": 13,
     "metadata": {},
     "output_type": "execute_result"
    }
   ],
   "source": [
    "s = \"pineapplepenapple\"\n",
    "wordDict = [\"apple\", \"pen\", \"applepen\", \"pine\", \"pineapple\"]\n",
    "\n",
    "\n",
    "Solution().wordBreak(s, wordDict)"
   ]
  }
 ],
 "metadata": {
  "kernelspec": {
   "display_name": "Python 3",
   "language": "python",
   "name": "python3"
  },
  "language_info": {
   "codemirror_mode": {
    "name": "ipython",
    "version": 3
   },
   "file_extension": ".py",
   "mimetype": "text/x-python",
   "name": "python",
   "nbconvert_exporter": "python",
   "pygments_lexer": "ipython3",
   "version": "3.6.10"
  }
 },
 "nbformat": 4,
 "nbformat_minor": 4
}
