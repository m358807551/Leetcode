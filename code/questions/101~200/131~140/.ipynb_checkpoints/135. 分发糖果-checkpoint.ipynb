{
 "cells": [
  {
   "cell_type": "markdown",
   "metadata": {},
   "source": [
    "[135. 分发糖果](https://leetcode-cn.com/problems/candy/)"
   ]
  },
  {
   "cell_type": "code",
   "execution_count": 1,
   "metadata": {},
   "outputs": [],
   "source": [
    "class Solution(object):\n",
    "    def candy(self, ratings):\n",
    "        \"\"\"\n",
    "        :type ratings: List[int]\n",
    "        :rtype: int\n",
    "        \"\"\"\n",
    "        left = [1] * len(ratings)\n",
    "        for i in range(1, len(ratings)):\n",
    "            if ratings[i] > ratings[i-1]:\n",
    "                left[i] = left[i-1] + 1\n",
    "        \n",
    "        right = [1] * len(ratings)\n",
    "        for i in range(len(ratings)-2, -1, -1):\n",
    "            if ratings[i] ratings[i+1]"
   ]
  },
  {
   "cell_type": "code",
   "execution_count": null,
   "metadata": {},
   "outputs": [],
   "source": []
  }
 ],
 "metadata": {
  "kernelspec": {
   "display_name": "Python 3",
   "language": "python",
   "name": "python3"
  },
  "language_info": {
   "codemirror_mode": {
    "name": "ipython",
    "version": 3
   },
   "file_extension": ".py",
   "mimetype": "text/x-python",
   "name": "python",
   "nbconvert_exporter": "python",
   "pygments_lexer": "ipython3",
   "version": "3.6.10"
  }
 },
 "nbformat": 4,
 "nbformat_minor": 4
}
