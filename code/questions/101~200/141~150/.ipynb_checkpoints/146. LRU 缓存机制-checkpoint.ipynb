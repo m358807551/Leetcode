{
 "cells": [
  {
   "cell_type": "markdown",
   "metadata": {},
   "source": [
    "[146. LRU 缓存机制](https://leetcode-cn.com/problems/lru-cache/)"
   ]
  },
  {
   "cell_type": "code",
   "execution_count": 38,
   "metadata": {},
   "outputs": [],
   "source": [
    "class Node(object):\n",
    "    def __init__(self, key, value):\n",
    "        self.key = key\n",
    "        self.value = value\n",
    "        self.pre = None\n",
    "        self.next = None\n",
    "class LRUCache(object):\n",
    "\n",
    "    def __init__(self, capacity):\n",
    "        \"\"\"\n",
    "        :type capacity: int\n",
    "        \"\"\"\n",
    "        self.cap = capacity\n",
    "        self.key2node = {}\n",
    "        fhead, ftail = Node(None, None), Node(None, None)\n",
    "        fhead.next, ftail.pre = ftail, fhead\n",
    "        self.fhead, self.ftail = fhead, ftail\n",
    "\n",
    "    def get(self, key):\n",
    "        \"\"\"\n",
    "        :type key: int\n",
    "        :rtype: int\n",
    "        \"\"\"\n",
    "        if key not in self.key2node:\n",
    "            return -1\n",
    "        self.move_to_first(self.key2node[key])\n",
    "        return self.key2node[key].value\n",
    "    \n",
    "    def put(self, key, value):\n",
    "        \"\"\"\n",
    "        :type key: int\n",
    "        :type value: int\n",
    "        :rtype: None\n",
    "        \"\"\"\n",
    "        if key in self.key2node:\n",
    "            self.move_to_first(self.key2node[key])\n",
    "            self.key2node[key].value = value\n",
    "        else:\n",
    "            node = Node(key, value)\n",
    "            self.insert_first(node)\n",
    "            self.key2node[key] = node\n",
    "            if len(self.key2node) > self.cap:\n",
    "                last_node = self.ftail.pre\n",
    "                self.remove(last_node)\n",
    "                del self.key2node[last_node.key]\n",
    "            \n",
    "    def move_to_first(self, node):\n",
    "        self.remove(node)\n",
    "        self.insert_first(node)\n",
    "    \n",
    "    def remove(self, p):\n",
    "        p.pre.next, p.next.pre = p.next, p.pre\n",
    "    \n",
    "    def insert_first(self, p):\n",
    "        p.pre, p.next = self.fhead, self.fhead.next\n",
    "        self.fhead.next.pre, self.fhead.next = p, p\n",
    "\n",
    "# Your LRUCache object will be instantiated and called as such:\n",
    "# obj = LRUCache(capacity)\n",
    "# param_1 = obj.get(key)\n",
    "# obj.put(key,value)"
   ]
  },
  {
   "cell_type": "code",
   "execution_count": 39,
   "metadata": {},
   "outputs": [
    {
     "name": "stdout",
     "output_type": "stream",
     "text": [
      "put(1, 1) None\n",
      "put(2, 3) None\n",
      "get(1) 1\n",
      "put(3, 2) None\n",
      "get(2) -1\n",
      "put(4, 4) None\n",
      "get(1) -1\n",
      "get(3) 2\n",
      "get(4) 4\n"
     ]
    }
   ],
   "source": [
    "# [put\",\"put\",\"get\",\"put\",\"get\",\"put\",\"get\",\"get\",\"get\"]\n",
    "# [[1,1],[2,2],[1],[3,3],[2],[4,4],[1],[3],[4]]\n",
    "\n",
    "s = LRUCache(2)\n",
    "print(\"put(1, 1)\", s.put(1, 1))\n",
    "print(\"put(2, 3)\", s.put(2, 3))\n",
    "print(\"get(1)\", s.get(1))\n",
    "print(\"put(3, 2)\", s.put(3, 2))\n",
    "print(\"get(2)\", s.get(2))\n",
    "print(\"put(4, 4)\", s.put(4, 4))\n",
    "print(\"get(1)\", s.get(1))\n",
    "print(\"get(3)\", s.get(3))\n",
    "print(\"get(4)\", s.get(4))"
   ]
  },
  {
   "cell_type": "code",
   "execution_count": 34,
   "metadata": {},
   "outputs": [
    {
     "data": {
      "text/plain": [
       "{}"
      ]
     },
     "execution_count": 34,
     "metadata": {},
     "output_type": "execute_result"
    }
   ],
   "source": [
    "s.key2node"
   ]
  },
  {
   "cell_type": "code",
   "execution_count": null,
   "metadata": {},
   "outputs": [],
   "source": []
  }
 ],
 "metadata": {
  "kernelspec": {
   "display_name": "Python 3",
   "language": "python",
   "name": "python3"
  },
  "language_info": {
   "codemirror_mode": {
    "name": "ipython",
    "version": 3
   },
   "file_extension": ".py",
   "mimetype": "text/x-python",
   "name": "python",
   "nbconvert_exporter": "python",
   "pygments_lexer": "ipython3",
   "version": "3.6.10"
  }
 },
 "nbformat": 4,
 "nbformat_minor": 4
}
