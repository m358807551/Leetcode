{
 "cells": [
  {
   "cell_type": "markdown",
   "metadata": {},
   "source": [
    "[147. 对链表进行插入排序](https://leetcode-cn.com/problems/insertion-sort-list/)"
   ]
  },
  {
   "cell_type": "code",
   "execution_count": 32,
   "metadata": {},
   "outputs": [],
   "source": [
    "# Definition for singly-linked list.\n",
    "class ListNode(object):\n",
    "    def __init__(self, val=0, next=None):\n",
    "        self.val = val\n",
    "        self.next = next\n",
    "\n",
    "def show(head):\n",
    "    rst = []\n",
    "    while head:\n",
    "        rst.append(head.val)\n",
    "        head = head.next\n",
    "    print(rst)\n",
    "\n",
    "class Solution(object):\n",
    "    def insertionSortList(self, head):\n",
    "        \"\"\"\n",
    "        :type head: ListNode\n",
    "        :rtype: ListNode\n",
    "        \"\"\"\n",
    "        rst = ListNode(float(\"-inf\"))\n",
    "        cur = head\n",
    "        while cur:\n",
    "            p = rst\n",
    "            while p.next and p.next.val <= cur.val:\n",
    "                p = p.next\n",
    "            p.next, cur.next, cur = cur, p.next, cur.next\n",
    "        return rst.next"
   ]
  },
  {
   "cell_type": "code",
   "execution_count": 34,
   "metadata": {},
   "outputs": [
    {
     "name": "stdout",
     "output_type": "stream",
     "text": [
      "[1, 2, 3, 4]\n"
     ]
    }
   ],
   "source": [
    "nodes = [ListNode(x) for x in [4, 2, 1, 3]]\n",
    "for i in range(len(nodes)-1):\n",
    "    nodes[i].next = nodes[i+1]\n",
    "rst = Solution().insertionSortList(nodes[0])\n",
    "show(rst)"
   ]
  }
 ],
 "metadata": {
  "kernelspec": {
   "display_name": "Python 3",
   "language": "python",
   "name": "python3"
  },
  "language_info": {
   "codemirror_mode": {
    "name": "ipython",
    "version": 3
   },
   "file_extension": ".py",
   "mimetype": "text/x-python",
   "name": "python",
   "nbconvert_exporter": "python",
   "pygments_lexer": "ipython3",
   "version": "3.6.10"
  }
 },
 "nbformat": 4,
 "nbformat_minor": 4
}
