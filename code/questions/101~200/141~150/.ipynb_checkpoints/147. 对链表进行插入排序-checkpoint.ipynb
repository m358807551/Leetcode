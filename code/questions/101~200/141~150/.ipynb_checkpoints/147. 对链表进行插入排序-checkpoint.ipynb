{
 "cells": [
  {
   "cell_type": "markdown",
   "metadata": {},
   "source": [
    "[147. 对链表进行插入排序](https://leetcode-cn.com/problems/insertion-sort-list/)"
   ]
  },
  {
   "cell_type": "code",
   "execution_count": 22,
   "metadata": {},
   "outputs": [],
   "source": [
    "# Definition for singly-linked list.\n",
    "class ListNode(object):\n",
    "    def __init__(self, val=0, next=None):\n",
    "        self.val = val\n",
    "        self.next = next\n",
    "\n",
    "def show(head):\n",
    "    rst = []\n",
    "    while head:\n",
    "        rst.append(head.val)\n",
    "        head = head.next\n",
    "    print(rst)\n",
    "\n",
    "class Solution(object):\n",
    "    def insertionSortList(self, head):\n",
    "        \"\"\"\n",
    "        :type head: ListNode\n",
    "        :rtype: ListNode\n",
    "        \"\"\"\n",
    "        rst = ListNode(float(\"-inf\"))\n",
    "        cur = head\n",
    "        while cur:\n",
    "            p = rst\n",
    "            while p.next and (p.val <= cur.val <= p.next.val):\n",
    "                print(p.val, cur.val, p.next.val)\n",
    "                p = p.next\n",
    "            print(\"把{0}插入在{1}后面\".format(cur.val, p.val))\n",
    "            p.next, cur.next, cur = cur, None, cur.next\n",
    "            show(rst)\n",
    "        return rst.next"
   ]
  },
  {
   "cell_type": "code",
   "execution_count": 23,
   "metadata": {},
   "outputs": [
    {
     "name": "stdout",
     "output_type": "stream",
     "text": [
      "把4插入在-inf后面\n",
      "[-inf, 4]\n",
      "-inf 2 4\n",
      "把2插入在4后面\n",
      "[-inf, 4, 2]\n",
      "-inf 1 4\n",
      "把1插入在4后面\n",
      "[-inf, 4, 1]\n",
      "-inf 3 4\n",
      "把3插入在4后面\n",
      "[-inf, 4, 3]\n"
     ]
    },
    {
     "data": {
      "text/plain": [
       "<__main__.ListNode at 0x111d2ff60>"
      ]
     },
     "execution_count": 23,
     "metadata": {},
     "output_type": "execute_result"
    }
   ],
   "source": [
    "nodes = [ListNode(x) for x in [4, 2, 1, 3]]\n",
    "for i in range(len(nodes)-1):\n",
    "    nodes[i].next = nodes[i+1]\n",
    "Solution().insertionSortList(nodes[0])"
   ]
  }
 ],
 "metadata": {
  "kernelspec": {
   "display_name": "Python 3",
   "language": "python",
   "name": "python3"
  },
  "language_info": {
   "codemirror_mode": {
    "name": "ipython",
    "version": 3
   },
   "file_extension": ".py",
   "mimetype": "text/x-python",
   "name": "python",
   "nbconvert_exporter": "python",
   "pygments_lexer": "ipython3",
   "version": "3.6.10"
  }
 },
 "nbformat": 4,
 "nbformat_minor": 4
}
