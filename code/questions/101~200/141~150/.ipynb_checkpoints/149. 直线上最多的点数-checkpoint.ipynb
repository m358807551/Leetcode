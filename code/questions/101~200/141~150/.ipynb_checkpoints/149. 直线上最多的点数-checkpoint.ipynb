{
 "cells": [
  {
   "cell_type": "markdown",
   "metadata": {},
   "source": [
    "[149. 直线上最多的点数](https://leetcode-cn.com/problems/max-points-on-a-line/)"
   ]
  },
  {
   "cell_type": "code",
   "execution_count": 24,
   "metadata": {},
   "outputs": [],
   "source": [
    "from collections import defaultdict\n",
    "from fractions import Fraction\n",
    "\n",
    "\n",
    "class Solution(object):\n",
    "    def maxPoints(self, points):\n",
    "        \"\"\"\n",
    "        :type points: List[List[int]]\n",
    "        :rtype: int\n",
    "        \"\"\"\n",
    "        if len(points) < 2:\n",
    "            return len(points)\n",
    "        rst = 0\n",
    "        n = len(points)\n",
    "        for i in range(n-1):\n",
    "            same, k2count = 0, defaultdict(int)\n",
    "            for j in range(i+1, n):\n",
    "                p1, p2 = points[i], points[j]\n",
    "                if p1 == p2:\n",
    "                    same += 1\n",
    "                elif p1[0] == p2[0]:\n",
    "                    k2count[None] += 1\n",
    "                else:\n",
    "                    k = Fraction(p1[1]-p2[1]) / Fraction(p1[0]-p2[0])\n",
    "                    k2count[k] += 1\n",
    "            t = same + 1\n",
    "            if k2count:\n",
    "                t += max(k2count.values())\n",
    "            rst = max(rst, t)\n",
    "        return rst"
   ]
  },
  {
   "cell_type": "code",
   "execution_count": 25,
   "metadata": {},
   "outputs": [
    {
     "data": {
      "text/plain": [
       "3"
      ]
     },
     "execution_count": 25,
     "metadata": {},
     "output_type": "execute_result"
    }
   ],
   "source": [
    "points = [[1,1],[2,2],[3,3]]\n",
    "Solution().maxPoints(points)"
   ]
  }
 ],
 "metadata": {
  "kernelspec": {
   "display_name": "Python 3",
   "language": "python",
   "name": "python3"
  },
  "language_info": {
   "codemirror_mode": {
    "name": "ipython",
    "version": 3
   },
   "file_extension": ".py",
   "mimetype": "text/x-python",
   "name": "python",
   "nbconvert_exporter": "python",
   "pygments_lexer": "ipython3",
   "version": "3.6.10"
  }
 },
 "nbformat": 4,
 "nbformat_minor": 4
}
