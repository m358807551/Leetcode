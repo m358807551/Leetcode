{
 "cells": [
  {
   "cell_type": "markdown",
   "metadata": {},
   "source": [
    "[148. 排序链表](https://leetcode-cn.com/problems/sort-list/)"
   ]
  },
  {
   "cell_type": "code",
   "execution_count": 64,
   "metadata": {},
   "outputs": [],
   "source": [
    "# Definition for singly-linked list.\n",
    "class ListNode(object):\n",
    "    def __init__(self, val=0, next=None):\n",
    "        self.val = val\n",
    "        self.next = next\n",
    "    \n",
    "    def __repr__(self):\n",
    "        return str(self.val)\n",
    "\n",
    "def show(head):\n",
    "    rst = []\n",
    "    while head:\n",
    "        rst.append(head.val)\n",
    "        head = head.next\n",
    "    print(rst)\n",
    "    \n",
    "class Solution(object):\n",
    "    def sortList(self, head):\n",
    "        \"\"\"\n",
    "        :type head: ListNode\n",
    "        :rtype: ListNode\n",
    "        \"\"\"\n",
    "        if (head is None) or (head.next is None):\n",
    "            return head\n",
    "        fast = slow = head\n",
    "        while fast and fast.next and fast.next.next:\n",
    "            fast = fast.next.next\n",
    "            slow = slow.next\n",
    "        h1, h2, slow.next = head, slow.next, None\n",
    "        h1 = self.sortList(h1)\n",
    "        h2 = self.sortList(h2)\n",
    "        return self.merge(h1, h2)\n",
    "    \n",
    "    def merge(self, h1, h2):\n",
    "        if (h1 and h2) is None:\n",
    "            return h1 or h2\n",
    "        if h1.val < h2.val:\n",
    "            h1.next = self.merge(h1.next, h2)\n",
    "            return h1\n",
    "        else:\n",
    "            h2.next = self.merge(h1, h2.next)\n",
    "            return h2"
   ]
  },
  {
   "cell_type": "code",
   "execution_count": 67,
   "metadata": {},
   "outputs": [
    {
     "name": "stdout",
     "output_type": "stream",
     "text": [
      "[1, 2, 3, 4]\n"
     ]
    }
   ],
   "source": [
    "nodes = [ListNode(x) for x in [4, 2, 1, 3]]\n",
    "for i in range(len(nodes)-1):\n",
    "    nodes[i].next = nodes[i+1]\n",
    "\n",
    "rst = Solution().sortList(nodes[0])\n",
    "show(rst)"
   ]
  },
  {
   "cell_type": "code",
   "execution_count": null,
   "metadata": {},
   "outputs": [],
   "source": []
  }
 ],
 "metadata": {
  "kernelspec": {
   "display_name": "Python 3",
   "language": "python",
   "name": "python3"
  },
  "language_info": {
   "codemirror_mode": {
    "name": "ipython",
    "version": 3
   },
   "file_extension": ".py",
   "mimetype": "text/x-python",
   "name": "python",
   "nbconvert_exporter": "python",
   "pygments_lexer": "ipython3",
   "version": "3.6.10"
  }
 },
 "nbformat": 4,
 "nbformat_minor": 4
}
