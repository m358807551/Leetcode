{
 "cells": [
  {
   "cell_type": "markdown",
   "metadata": {},
   "source": [
    "[143. 重排链表](https://leetcode-cn.com/problems/reorder-list/)"
   ]
  },
  {
   "cell_type": "code",
   "execution_count": 1,
   "metadata": {},
   "outputs": [],
   "source": [
    "# Definition for singly-linked list.\n",
    "# class ListNode(object):\n",
    "#     def __init__(self, val=0, next=None):\n",
    "#         self.val = val\n",
    "#         self.next = next\n",
    "class Solution(object):\n",
    "    def reorderList(self, head):\n",
    "        \"\"\"\n",
    "        :type head: ListNode\n",
    "        :rtype: None Do not return anything, modify head in-place instead.\n",
    "        \"\"\"\n",
    "        if not (head and head.next and head.next.next):  # 小于3个节点\n",
    "            return head\n",
    "        \n",
    "        slow = fast = head\n",
    "        fast = fast.next.next\n",
    "        while fast and fast.next:\n",
    "            fast = fast.next.next\n",
    "            slow = slow.next\n",
    "        \n",
    "        h1, h2 = head, slow.next\n",
    "        slow.next = None\n",
    "        \n",
    "        h2 = self.reverse(h2)\n",
    "        return self.combine(h1, h2)\n",
    "    \n",
    "    def combine(self, h1, h2):\n",
    "        if (h1 and h2) is None:\n",
    "            return h1 or h2\n",
    "        \n",
    "        h1.next, h2.next = h2, self.combine(h1.next, h2.next)\n",
    "        return h1\n",
    "    \n",
    "    def reverse(self, head):\n",
    "        if not (head and head.next):\n",
    "            return head\n",
    "        \n",
    "        rst = self.reverse(head.next)\n",
    "        head.next.next = head\n",
    "        head.next = None\n",
    "        \n",
    "        return rst\n",
    "        "
   ]
  },
  {
   "cell_type": "code",
   "execution_count": null,
   "metadata": {},
   "outputs": [],
   "source": []
  }
 ],
 "metadata": {
  "kernelspec": {
   "display_name": "Python 3",
   "language": "python",
   "name": "python3"
  },
  "language_info": {
   "codemirror_mode": {
    "name": "ipython",
    "version": 3
   },
   "file_extension": ".py",
   "mimetype": "text/x-python",
   "name": "python",
   "nbconvert_exporter": "python",
   "pygments_lexer": "ipython3",
   "version": "3.6.10"
  }
 },
 "nbformat": 4,
 "nbformat_minor": 4
}
