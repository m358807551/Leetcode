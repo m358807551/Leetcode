{
 "cells": [
  {
   "cell_type": "markdown",
   "metadata": {},
   "source": [
    "[174. 地下城游戏](https://leetcode-cn.com/problems/dungeon-game/)"
   ]
  },
  {
   "cell_type": "code",
   "execution_count": 2,
   "metadata": {},
   "outputs": [],
   "source": [
    "class Solution(object):\n",
    "    def calculateMinimumHP(self, dungeon):\n",
    "        \"\"\"\n",
    "        :type dungeon: List[List[int]]\n",
    "        :rtype: int\n",
    "        \"\"\"\n",
    "        m, n = len(dungeon), len(dungeon[0])\n",
    "        dp = [[1] * n for _ in range(m)]\n",
    "        for i in range(m-1, -1, -1):\n",
    "            for j in range(n-1, -1, -1):\n",
    "                maybe = []\n",
    "                if i != m-1:\n",
    "                    maybe.append(dp[i+1][j]-dungeon[i+1][j])\n",
    "                if j != n-1:\n",
    "                    maybe.append(dp[i][j+1]-dungeon[i][j+1])\n",
    "                dp[i][j] = max(min(maybe) if maybe else 0, 1)\n",
    "        return max(dp[0][0] - dungeon[0][0], 1)"
   ]
  },
  {
   "cell_type": "code",
   "execution_count": 3,
   "metadata": {},
   "outputs": [
    {
     "data": {
      "text/plain": [
       "7"
      ]
     },
     "execution_count": 3,
     "metadata": {},
     "output_type": "execute_result"
    }
   ],
   "source": [
    "Solution().calculateMinimumHP([[-2,-3,3],[-5,-10,1],[10,30,-5]])"
   ]
  }
 ],
 "metadata": {
  "kernelspec": {
   "display_name": "Python 3",
   "language": "python",
   "name": "python3"
  },
  "language_info": {
   "codemirror_mode": {
    "name": "ipython",
    "version": 3
   },
   "file_extension": ".py",
   "mimetype": "text/x-python",
   "name": "python",
   "nbconvert_exporter": "python",
   "pygments_lexer": "ipython3",
   "version": "3.6.10"
  }
 },
 "nbformat": 4,
 "nbformat_minor": 4
}
