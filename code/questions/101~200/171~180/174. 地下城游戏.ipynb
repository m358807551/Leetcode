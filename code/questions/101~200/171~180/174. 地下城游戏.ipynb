{
 "cells": [
  {
   "cell_type": "markdown",
   "metadata": {},
   "source": [
    "[174. 地下城游戏](https://leetcode-cn.com/problems/dungeon-game/)"
   ]
  },
  {
   "cell_type": "code",
   "execution_count": 3,
   "metadata": {},
   "outputs": [],
   "source": [
    "class Solution(object):\n",
    "    def calculateMinimumHP(self, dungeon):\n",
    "        \"\"\"\n",
    "        :type dungeon: List[List[int]]\n",
    "        :rtype: int\n",
    "        \"\"\"\n",
    "        m, n = len(dungeon), len(dungeon[0])\n",
    "        dp = [ [0] * n for _ in range(m)]\n",
    "        dp[m-1][n-1] = dungeon[m-1][n-1]\n",
    "        for i in range(m-2, -1, -1):\n",
    "            dp[i][-1] = dp[i+1][-1] + dungeon[i][-1]\n",
    "        \n",
    "        for j in range(n-2, -1, -1):\n",
    "            dp[-1][j] = dp[-1][j+1] + dungeon[-1][j]\n",
    "            \n",
    "        for i in range(m-2, -1, -1):\n",
    "            for j in range(n-2, -1, -1):\n",
    "                dp[i][j] = dungeon[i][j] + max(dp[i+1][j], dp[i][j+1])\n",
    "        print(dp)\n",
    "        return 1 if dp[0][0] >= 0 else 1 - dp[0][0]\n"
   ]
  },
  {
   "cell_type": "code",
   "execution_count": 4,
   "metadata": {},
   "outputs": [
    {
     "name": "stdout",
     "output_type": "stream",
     "text": [
      "[[28, 12, -1], [30, 15, -4], [35, 25, -5]]\n"
     ]
    },
    {
     "data": {
      "text/plain": [
       "1"
      ]
     },
     "execution_count": 4,
     "metadata": {},
     "output_type": "execute_result"
    }
   ],
   "source": [
    "Solution().calculateMinimumHP([[-2,-3,3],[-5,-10,1],[10,30,-5]])"
   ]
  }
 ],
 "metadata": {
  "kernelspec": {
   "display_name": "Python 3",
   "language": "python",
   "name": "python3"
  },
  "language_info": {
   "codemirror_mode": {
    "name": "ipython",
    "version": 3
   },
   "file_extension": ".py",
   "mimetype": "text/x-python",
   "name": "python",
   "nbconvert_exporter": "python",
   "pygments_lexer": "ipython3",
   "version": "3.6.10"
  }
 },
 "nbformat": 4,
 "nbformat_minor": 4
}
