{
 "cells": [
  {
   "cell_type": "markdown",
   "metadata": {},
   "source": [
    "[188. 买卖股票的最佳时机 IV](https://leetcode-cn.com/problems/best-time-to-buy-and-sell-stock-iv/)"
   ]
  },
  {
   "cell_type": "code",
   "execution_count": 12,
   "metadata": {},
   "outputs": [],
   "source": [
    "import torch"
   ]
  },
  {
   "cell_type": "code",
   "execution_count": 54,
   "metadata": {},
   "outputs": [],
   "source": [
    "from functools import lru_cache\n",
    "\n",
    "\n",
    "class Solution(object):\n",
    "    def maxProfit(self, k, prices):\n",
    "        \"\"\"\n",
    "        :type k: int\n",
    "        :type prices: List[int]\n",
    "        :rtype: int\n",
    "        \"\"\"\n",
    "        self.prices = prices\n",
    "        return self.res(0, False, k)\n",
    "    \n",
    "    @lru_cache(None)\n",
    "    def res(self, i, stock, k):\n",
    "        if i >= len(self.prices)-1:  # 是最后一天\n",
    "            if stock:\n",
    "                return self.prices[i]\n",
    "            else:\n",
    "                return 0\n",
    "        elif stock:  # 可以卖\n",
    "            return max(\n",
    "                self.res(i+1, True, k),\n",
    "                self.res(i+1, False, k) + self.prices[i],\n",
    "            )\n",
    "        else:  # 手上没股票\n",
    "            if k > 0:\n",
    "                return max(\n",
    "                    self.res(i+1, False, k),\n",
    "                    self.res(i+1, True, k-1) - self.prices[i],\n",
    "                )\n",
    "            else:\n",
    "                return self.res(i+1, False, k)\n",
    "                "
   ]
  },
  {
   "cell_type": "code",
   "execution_count": 55,
   "metadata": {},
   "outputs": [
    {
     "data": {
      "text/plain": [
       "1"
      ]
     },
     "execution_count": 55,
     "metadata": {},
     "output_type": "execute_result"
    }
   ],
   "source": [
    "k = 1\n",
    "prices = [1, 2]\n",
    "s = Solution().maxProfit(k, prices)\n",
    "s"
   ]
  },
  {
   "cell_type": "code",
   "execution_count": 27,
   "metadata": {},
   "outputs": [
    {
     "data": {
      "text/plain": [
       "torch.Size([2, 2, 2])"
      ]
     },
     "execution_count": 27,
     "metadata": {},
     "output_type": "execute_result"
    }
   ],
   "source": [
    "s.shape"
   ]
  },
  {
   "cell_type": "code",
   "execution_count": 23,
   "metadata": {},
   "outputs": [
    {
     "data": {
      "text/plain": [
       "[[0, 2], [1, 0]]"
      ]
     },
     "execution_count": 23,
     "metadata": {},
     "output_type": "execute_result"
    }
   ],
   "source": [
    "s[0]"
   ]
  },
  {
   "cell_type": "code",
   "execution_count": 28,
   "metadata": {},
   "outputs": [
    {
     "data": {
      "text/plain": [
       "tensor([[[0, 2],\n",
       "         [0, 0]]])"
      ]
     },
     "execution_count": 28,
     "metadata": {},
     "output_type": "execute_result"
    }
   ],
   "source": [
    "s[::2]"
   ]
  },
  {
   "cell_type": "code",
   "execution_count": 50,
   "metadata": {},
   "outputs": [],
   "source": [
    "\n",
    "class Solution(object):\n",
    "    def maxProfit(self, k, prices):\n",
    "        \"\"\"\n",
    "        :type k: int\n",
    "        :type prices: List[int]\n",
    "        :rtype: int\n",
    "        \"\"\"\n",
    "        n = len(prices)\n",
    "        dp = [[[0] * (k+1) for _ in range(n)], [[0] * (k+1) for _ in range(n)]]\n",
    "        \n",
    "        a = k\n",
    "        for i in range(n-1, -1, -1):\n",
    "            for k in range(a, -1, -1):\n",
    "                for stock in [1, 0]:\n",
    "                    if i == n-1:\n",
    "                        dp[1][i][k] = prices[i]\n",
    "                    elif stock:\n",
    "                        dp[stock][i][k] = max(\n",
    "                            dp[stock][i+1][k],\n",
    "                            dp[1][i+1][k] + prices[i],\n",
    "                        )\n",
    "                    else:\n",
    "                        if k:\n",
    "                            dp[stock][i][k] = max(\n",
    "                                dp[stock][i+1][k],\n",
    "                                dp[1][i+1][k-1] - prices[i],\n",
    "                            )\n",
    "#         return dp\n",
    "        return dp[0][0][a]"
   ]
  },
  {
   "cell_type": "code",
   "execution_count": 56,
   "metadata": {},
   "outputs": [
    {
     "data": {
      "text/plain": [
       "2"
      ]
     },
     "execution_count": 56,
     "metadata": {},
     "output_type": "execute_result"
    }
   ],
   "source": [
    "k = 1\n",
    "prices = [2, 4, 1]\n",
    "Solution().maxProfit(k, prices)"
   ]
  },
  {
   "cell_type": "code",
   "execution_count": null,
   "metadata": {},
   "outputs": [],
   "source": []
  }
 ],
 "metadata": {
  "kernelspec": {
   "display_name": "Python 3",
   "language": "python",
   "name": "python3"
  },
  "language_info": {
   "codemirror_mode": {
    "name": "ipython",
    "version": 3
   },
   "file_extension": ".py",
   "mimetype": "text/x-python",
   "name": "python",
   "nbconvert_exporter": "python",
   "pygments_lexer": "ipython3",
   "version": "3.6.10"
  }
 },
 "nbformat": 4,
 "nbformat_minor": 4
}
