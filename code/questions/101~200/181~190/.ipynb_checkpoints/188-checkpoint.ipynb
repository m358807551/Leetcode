{
 "cells": [
  {
   "cell_type": "markdown",
   "metadata": {},
   "source": [
    "[188. 买卖股票的最佳时机 IV](https://leetcode-cn.com/problems/best-time-to-buy-and-sell-stock-iv/)"
   ]
  },
  {
   "cell_type": "code",
   "execution_count": 12,
   "metadata": {},
   "outputs": [],
   "source": [
    "import torch"
   ]
  },
  {
   "cell_type": "code",
   "execution_count": 54,
   "metadata": {},
   "outputs": [],
   "source": [
    "class Solution(object):\n",
    "    def maxProfit(self, max_k, prices):\n",
    "        \"\"\"\n",
    "        :type prices: List[int]\n",
    "        :rtype: int\n",
    "        \"\"\"\n",
    "        n = len(prices)\n",
    "        dp = []\n",
    "        for i in range(n+1):\n",
    "            dp.append([[0] * (max_k+1), [0] * (max_k+1)])\n",
    "        \n",
    "        for k in range(max_k):\n",
    "            dp[n][1][k] = prices[-1]\n",
    "        \n",
    "        for i in range(n-1, 0, -1):\n",
    "            for k in range(max_k+1):\n",
    "                dp[i][0][k] = max(dp[i+1][0][k], (dp[i+1][1][k-1] - prices[i-1]) if k > 0 else 0)\n",
    "                dp[i][1][k] = max(dp[i+1][1][k], dp[i+1][0][k] + prices[i-1])\n",
    "#         pprint(dp)\n",
    "        return dp[1][0][k]"
   ]
  },
  {
   "cell_type": "code",
   "execution_count": null,
   "metadata": {},
   "outputs": [],
   "source": []
  }
 ],
 "metadata": {
  "kernelspec": {
   "display_name": "Python 3",
   "language": "python",
   "name": "python3"
  },
  "language_info": {
   "codemirror_mode": {
    "name": "ipython",
    "version": 3
   },
   "file_extension": ".py",
   "mimetype": "text/x-python",
   "name": "python",
   "nbconvert_exporter": "python",
   "pygments_lexer": "ipython3",
   "version": "3.6.10"
  }
 },
 "nbformat": 4,
 "nbformat_minor": 4
}
