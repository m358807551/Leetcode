{
 "cells": [
  {
   "cell_type": "markdown",
   "metadata": {},
   "source": [
    "[124. 二叉树中的最大路径和](https://leetcode-cn.com/problems/binary-tree-maximum-path-sum/)"
   ]
  },
  {
   "cell_type": "code",
   "execution_count": 3,
   "metadata": {},
   "outputs": [],
   "source": [
    "# Definition for a binary tree node.\n",
    "# class TreeNode(object):\n",
    "#     def __init__(self, val=0, left=None, right=None):\n",
    "#         self.val = val\n",
    "#         self.left = left\n",
    "#         self.right = right\n",
    "class Solution(object):\n",
    "    def maxPathSum(self, root):\n",
    "        \"\"\"\n",
    "        :type root: TreeNode\n",
    "        :rtype: int\n",
    "        \"\"\"\n",
    "        self.rst = float(\"-inf\")\n",
    "        self.bfs(root)\n",
    "        return self.rst\n",
    "    \n",
    "    def bfs(self, root):\n",
    "        if not root:\n",
    "            return 0\n",
    "        left = self.bfs(root.left)\n",
    "        right = self.bfs(root.right)\n",
    "        self.rst = max(self.rst, root.val + max(left, 0) + max(right, 0))\n",
    "        return max(\n",
    "            root.val,\n",
    "            root.val+left,\n",
    "            root.val+right,\n",
    "        )"
   ]
  }
 ],
 "metadata": {
  "kernelspec": {
   "display_name": "Python 3",
   "language": "python",
   "name": "python3"
  },
  "language_info": {
   "codemirror_mode": {
    "name": "ipython",
    "version": 3
   },
   "file_extension": ".py",
   "mimetype": "text/x-python",
   "name": "python",
   "nbconvert_exporter": "python",
   "pygments_lexer": "ipython3",
   "version": "3.6.10"
  }
 },
 "nbformat": 4,
 "nbformat_minor": 4
}
