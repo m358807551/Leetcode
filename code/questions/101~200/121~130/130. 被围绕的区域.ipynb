{
 "cells": [
  {
   "cell_type": "markdown",
   "metadata": {},
   "source": [
    "[130. 被围绕的区域](https://leetcode-cn.com/problems/surrounded-regions/)"
   ]
  },
  {
   "cell_type": "code",
   "execution_count": 2,
   "metadata": {},
   "outputs": [],
   "source": [
    "class Solution(object):\n",
    "    def solve(self, board):\n",
    "        \"\"\"\n",
    "        :type board: List[List[str]]\n",
    "        :rtype: None Do not return anything, modify board in-place instead.\n",
    "        \"\"\"\n",
    "        m, n = len(board), len(board[0])\n",
    "        for i in range(m):\n",
    "            self.bfs(board, i, 0)\n",
    "            self.bfs(board, i, n-1)\n",
    "        \n",
    "        for j in range(n):\n",
    "            self.bfs(board, 0, j)\n",
    "            self.bfs(board, m-1, j)\n",
    "        \n",
    "        for i in range(m):\n",
    "            for j in range(n):\n",
    "                if board[i][j] == \"O\":\n",
    "                    board[i][j] = \"X\"\n",
    "                elif board[i][j] == \"A\":\n",
    "                    board[i][j] = \"O\"\n",
    "    \n",
    "    def bfs(self, board, i, j):\n",
    "        if (0 <= i < len(board)) and (0 <= j < len(board[0])) and (board[i][j] == \"O\"):\n",
    "            board[i][j] = \"A\"\n",
    "            self.bfs(board, i-1, j)\n",
    "            self.bfs(board, i+1, j)\n",
    "            self.bfs(board, i, j-1)\n",
    "            self.bfs(board, i, j+1)\n"
   ]
  },
  {
   "cell_type": "code",
   "execution_count": null,
   "metadata": {},
   "outputs": [],
   "source": []
  }
 ],
 "metadata": {
  "kernelspec": {
   "display_name": "Python 3",
   "language": "python",
   "name": "python3"
  },
  "language_info": {
   "codemirror_mode": {
    "name": "ipython",
    "version": 3
   },
   "file_extension": ".py",
   "mimetype": "text/x-python",
   "name": "python",
   "nbconvert_exporter": "python",
   "pygments_lexer": "ipython3",
   "version": "3.6.10"
  }
 },
 "nbformat": 4,
 "nbformat_minor": 4
}
