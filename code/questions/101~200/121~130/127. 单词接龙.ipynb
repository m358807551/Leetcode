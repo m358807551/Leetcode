{
 "cells": [
  {
   "cell_type": "markdown",
   "metadata": {},
   "source": [
    "[127. 单词接龙](https://leetcode-cn.com/problems/word-ladder/)"
   ]
  },
  {
   "cell_type": "code",
   "execution_count": 64,
   "metadata": {},
   "outputs": [],
   "source": [
    "from collections import defaultdict\n",
    "\n",
    "\n",
    "class Solution(object):\n",
    "    def ladderLength(self, beginWord, endWord, wordList):\n",
    "        \"\"\"\n",
    "        :type beginWord: str\n",
    "        :type endWord: str\n",
    "        :type wordList: List[str]\n",
    "        :rtype: int\n",
    "        \"\"\"\n",
    "        wordList = set(wordList)\n",
    "        wordList.add(beginWord)\n",
    "        \n",
    "        paterns = defaultdict(list)\n",
    "        for word in wordList:\n",
    "            for i in range(len(word)):\n",
    "                paterns[word[:i] + \"*\" + word[i+1:]].append(word)\n",
    "        \n",
    "        adj = defaultdict(list)\n",
    "        for words in paterns.values():\n",
    "            for i in range(len(words)):\n",
    "                adj[words[i]].extend(words[:i] + words[i+1:])\n",
    "\n",
    "        wordList = set(wordList)\n",
    "        visited = set()\n",
    "        queue = {beginWord}\n",
    "        rst = 1\n",
    "        while queue:\n",
    "#             print(queue)\n",
    "            if endWord in queue:\n",
    "                return rst\n",
    "            visited |= queue\n",
    "            queue = {\n",
    "                new_word\n",
    "                for word in queue\n",
    "                for new_word in adj[word]\n",
    "                if new_word not in visited\n",
    "            }\n",
    "            rst += 1\n",
    "        return 0"
   ]
  },
  {
   "cell_type": "code",
   "execution_count": 65,
   "metadata": {},
   "outputs": [
    {
     "name": "stdout",
     "output_type": "stream",
     "text": [
      "{'hit'}\n",
      "{'hot'}\n",
      "{'lot', 'dot'}\n",
      "{'dog', 'log'}\n",
      "{'cog'}\n",
      "5\n"
     ]
    }
   ],
   "source": [
    "beginWord = \"hit\"\n",
    "endWord = \"cog\"\n",
    "wordList = [\"hot\",\"cog\",\"dot\",\"dog\",\"hit\",\"lot\",\"log\"]\n",
    "\n",
    "from pprint import pprint\n",
    "rst = Solution().ladderLength(beginWord, endWord, wordList)\n",
    "pprint(rst)"
   ]
  },
  {
   "cell_type": "code",
   "execution_count": 31,
   "metadata": {},
   "outputs": [
    {
     "data": {
      "text/plain": [
       "'z'"
      ]
     },
     "execution_count": 31,
     "metadata": {},
     "output_type": "execute_result"
    }
   ],
   "source": [
    "chr(ord('a') + 25)"
   ]
  },
  {
   "cell_type": "code",
   "execution_count": null,
   "metadata": {},
   "outputs": [],
   "source": []
  }
 ],
 "metadata": {
  "kernelspec": {
   "display_name": "Python 3",
   "language": "python",
   "name": "python3"
  },
  "language_info": {
   "codemirror_mode": {
    "name": "ipython",
    "version": 3
   },
   "file_extension": ".py",
   "mimetype": "text/x-python",
   "name": "python",
   "nbconvert_exporter": "python",
   "pygments_lexer": "ipython3",
   "version": "3.6.10"
  }
 },
 "nbformat": 4,
 "nbformat_minor": 4
}
