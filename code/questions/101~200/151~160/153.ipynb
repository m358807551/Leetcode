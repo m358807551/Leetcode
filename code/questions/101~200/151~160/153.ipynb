{
 "cells": [
  {
   "cell_type": "code",
   "execution_count": 2,
   "metadata": {},
   "outputs": [
    {
     "name": "stdout",
     "output_type": "stream",
     "text": [
      "1\n"
     ]
    }
   ],
   "source": [
    "\"\"\"\n",
    "https://leetcode-cn.com/problems/find-minimum-in-rotated-sorted-array\n",
    "\"\"\"\n",
    "\n",
    "class Solution(object):\n",
    "    def findMin(self, nums):\n",
    "        \"\"\"\n",
    "        :type nums: List[int]\n",
    "        :rtype: int\n",
    "        \"\"\"\n",
    "        left, right = 0, len(nums)-1\n",
    "        while left < right:\n",
    "            mid = left + (right-left)//2\n",
    "            if nums[mid] < nums[right]:\n",
    "                right = mid\n",
    "            else:\n",
    "                left = mid + 1\n",
    "        return nums[left]\n",
    "\n",
    "\n",
    "print(\n",
    "    Solution().findMin(\n",
    "[2, 1]\n",
    "    )\n",
    ")\n"
   ]
  },
  {
   "cell_type": "code",
   "execution_count": null,
   "metadata": {},
   "outputs": [],
   "source": []
  }
 ],
 "metadata": {
  "kernelspec": {
   "display_name": "Python 3",
   "language": "python",
   "name": "python3"
  },
  "language_info": {
   "codemirror_mode": {
    "name": "ipython",
    "version": 3
   },
   "file_extension": ".py",
   "mimetype": "text/x-python",
   "name": "python",
   "nbconvert_exporter": "python",
   "pygments_lexer": "ipython3",
   "version": "3.6.10"
  }
 },
 "nbformat": 4,
 "nbformat_minor": 4
}
