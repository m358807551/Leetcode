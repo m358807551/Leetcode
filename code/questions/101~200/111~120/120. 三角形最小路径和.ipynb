{
 "cells": [
  {
   "cell_type": "markdown",
   "metadata": {},
   "source": [
    "[120. 三角形最小路径和](https://leetcode-cn.com/problems/triangle/)"
   ]
  },
  {
   "cell_type": "code",
   "execution_count": 11,
   "metadata": {},
   "outputs": [],
   "source": [
    "from pprint import pprint"
   ]
  },
  {
   "cell_type": "code",
   "execution_count": 15,
   "metadata": {},
   "outputs": [],
   "source": [
    "class Solution(object):\n",
    "    def minimumTotal(self, triangle):\n",
    "        \"\"\"\n",
    "        :type triangle: List[List[int]]\n",
    "        :rtype: int\n",
    "        \"\"\"\n",
    "        n = len(triangle)\n",
    "        dp = [[0] * (n+1) for _ in range(n+1)]\n",
    "        for i in range(1, n+1):\n",
    "            dp[n][i] = triangle[-1][i-1]\n",
    "        for i in range(n-1, 0, -1):\n",
    "            for j in range(1, i+1):\n",
    "                dp[i][j] = triangle[i-1][j-1] + min(dp[i+1][j], dp[i+1][j+1])\n",
    "        return dp[1][1]\n"
   ]
  },
  {
   "cell_type": "code",
   "execution_count": 16,
   "metadata": {},
   "outputs": [
    {
     "name": "stdout",
     "output_type": "stream",
     "text": [
      "[[0, 0, 0, 0, 0],\n",
      " [0, 11, 0, 0, 0],\n",
      " [0, 9, 10, 0, 0],\n",
      " [0, 7, 6, 10, 0],\n",
      " [0, 4, 1, 8, 3]]\n"
     ]
    },
    {
     "data": {
      "text/plain": [
       "11"
      ]
     },
     "execution_count": 16,
     "metadata": {},
     "output_type": "execute_result"
    }
   ],
   "source": [
    "triangle = [\n",
    "    [2],\\\n",
    "    [3,4],\n",
    "    [6,5,7],\\\n",
    "    [4,1,8,3],\n",
    "]\n",
    "Solution().minimumTotal(triangle)"
   ]
  },
  {
   "cell_type": "code",
   "execution_count": null,
   "metadata": {},
   "outputs": [],
   "source": []
  }
 ],
 "metadata": {
  "kernelspec": {
   "display_name": "Python 3",
   "language": "python",
   "name": "python3"
  },
  "language_info": {
   "codemirror_mode": {
    "name": "ipython",
    "version": 3
   },
   "file_extension": ".py",
   "mimetype": "text/x-python",
   "name": "python",
   "nbconvert_exporter": "python",
   "pygments_lexer": "ipython3",
   "version": "3.6.10"
  }
 },
 "nbformat": 4,
 "nbformat_minor": 4
}
