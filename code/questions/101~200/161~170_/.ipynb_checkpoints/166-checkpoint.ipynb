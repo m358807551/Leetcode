{
 "cells": [
  {
   "cell_type": "markdown",
   "metadata": {},
   "source": [
    "[166. 分数到小数](https://leetcode-cn.com/problems/fraction-to-recurring-decimal/)"
   ]
  },
  {
   "cell_type": "code",
   "execution_count": 21,
   "metadata": {},
   "outputs": [],
   "source": [
    "class Solution(object):\n",
    "    def fractionToDecimal(self, numerator, denominator):\n",
    "        rst = '-' if numerator * denominator < 0 else ''\n",
    "        numerator, denominator = abs(numerator), abs(denominator)\n",
    "        d = {}\n",
    "        while numerator:\n",
    "            if numerator < denominator:  # 小数部分增加一位\n",
    "                if not d:  # 第一次遇见小数\n",
    "                    if rst in {'-', ''}:  # 整数部分恰好为0\n",
    "                        rst += \"0.\"\n",
    "                    else:  # 整数部分不为0\n",
    "                        rst += \".\"\n",
    "                numerator *= 10\n",
    "                if numerator in d:  # 这个被除数遇见过\n",
    "                    i = d[numerator]\n",
    "                    rst = rst[:i] + \"(\" + rst[i:] + \")\"\n",
    "                    break\n",
    "                d[numerator] = len(rst)  # 记录这个被除数对应的字符串的位置\n",
    "            rst += str(numerator // denominator)\n",
    "            numerator = numerator % denominator  # 更新被除数\n",
    "        return rst or \"0\""
   ]
  },
  {
   "cell_type": "code",
   "execution_count": 22,
   "metadata": {},
   "outputs": [
    {
     "data": {
      "text/plain": [
       "'-16.(6)'"
      ]
     },
     "execution_count": 22,
     "metadata": {},
     "output_type": "execute_result"
    }
   ],
   "source": [
    "Solution().fractionToDecimal(-50, 3)"
   ]
  },
  {
   "cell_type": "code",
   "execution_count": null,
   "metadata": {},
   "outputs": [],
   "source": []
  }
 ],
 "metadata": {
  "kernelspec": {
   "display_name": "Python 3",
   "language": "python",
   "name": "python3"
  },
  "language_info": {
   "codemirror_mode": {
    "name": "ipython",
    "version": 3
   },
   "file_extension": ".py",
   "mimetype": "text/x-python",
   "name": "python",
   "nbconvert_exporter": "python",
   "pygments_lexer": "ipython3",
   "version": "3.6.10"
  }
 },
 "nbformat": 4,
 "nbformat_minor": 4
}
