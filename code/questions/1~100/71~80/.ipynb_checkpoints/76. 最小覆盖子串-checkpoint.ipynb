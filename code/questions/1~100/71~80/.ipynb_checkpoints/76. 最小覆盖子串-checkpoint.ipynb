{
 "cells": [
  {
   "cell_type": "markdown",
   "metadata": {},
   "source": [
    "[76. 最小覆盖子串](https://leetcode-cn.com/problems/minimum-window-substring/)"
   ]
  },
  {
   "cell_type": "code",
   "execution_count": 99,
   "metadata": {},
   "outputs": [],
   "source": [
    "from collections import Counter, defaultdict\n",
    "\n",
    "class Solution(object):\n",
    "    def minWindow(self, s, t):\n",
    "        \"\"\"\n",
    "        :type s: str\n",
    "        :type t: str\n",
    "        :rtype: str\n",
    "        \"\"\"\n",
    "        x, y = 0, 0\n",
    "        count_t = Counter(t)\n",
    "        d = defaultdict(int)\n",
    "        need = set(count_t.keys())\n",
    "        \n",
    "        i, j = 0, 0\n",
    "        while j < len(s):\n",
    "            while j < len(s) and need:\n",
    "                letter = s[j]\n",
    "                j += 1\n",
    "                d[letter] += 1\n",
    "                if d[letter] >= count_t[letter]:\n",
    "                    need -= {letter}\n",
    "            if (j == len(s)) and need:\n",
    "                break\n",
    "            while (i < j) and (not need):\n",
    "                letter = s[i]\n",
    "                i += 1\n",
    "                d[letter] -= 1\n",
    "                if (letter in count_t) and (d[letter] < count_t[letter]):\n",
    "                    if (j-(i-1) < y -x) or (x == y == 0):\n",
    "                        x, y = i-1, j\n",
    "                    need.add(letter)\n",
    "        print(i, j, )\n",
    "        return s[x:y]"
   ]
  },
  {
   "cell_type": "code",
   "execution_count": 100,
   "metadata": {},
   "outputs": [
    {
     "name": "stdout",
     "output_type": "stream",
     "text": [
      "1 1 {'a'} 1\n",
      "111111111\n",
      "0 1\n"
     ]
    },
    {
     "data": {
      "text/plain": [
       "''"
      ]
     },
     "execution_count": 100,
     "metadata": {},
     "output_type": "execute_result"
    }
   ],
   "source": [
    "# Solution().minWindow(s = \"ADDADOBECODEBANC\", t = \"ABC\")\n",
    "Solution().minWindow(s = \"a\", t = \"aa\")"
   ]
  },
  {
   "cell_type": "code",
   "execution_count": 48,
   "metadata": {},
   "outputs": [
    {
     "data": {
      "text/plain": [
       "True"
      ]
     },
     "execution_count": 48,
     "metadata": {},
     "output_type": "execute_result"
    }
   ],
   "source": [
    "Counter(\"123\") == {\"1\": 1, \"2\": 1, \"3\": 1}"
   ]
  },
  {
   "cell_type": "code",
   "execution_count": null,
   "metadata": {},
   "outputs": [],
   "source": []
  }
 ],
 "metadata": {
  "kernelspec": {
   "display_name": "Python 3",
   "language": "python",
   "name": "python3"
  },
  "language_info": {
   "codemirror_mode": {
    "name": "ipython",
    "version": 3
   },
   "file_extension": ".py",
   "mimetype": "text/x-python",
   "name": "python",
   "nbconvert_exporter": "python",
   "pygments_lexer": "ipython3",
   "version": "3.6.10"
  }
 },
 "nbformat": 4,
 "nbformat_minor": 4
}
