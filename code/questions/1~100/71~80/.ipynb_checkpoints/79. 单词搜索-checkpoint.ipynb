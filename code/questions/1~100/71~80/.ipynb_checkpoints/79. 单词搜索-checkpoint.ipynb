{
 "cells": [
  {
   "cell_type": "markdown",
   "metadata": {},
   "source": [
    "[79. 单词搜索](https://leetcode-cn.com/problems/word-search/)"
   ]
  },
  {
   "cell_type": "code",
   "execution_count": 21,
   "metadata": {},
   "outputs": [],
   "source": [
    "class Solution(object):\n",
    "    def exist(self, board, word):\n",
    "        \"\"\"\n",
    "        :type board: List[List[str]]\n",
    "        :type word: str\n",
    "        :rtype: bool\n",
    "        \"\"\"\n",
    "        for i in range(len(board)):\n",
    "            for j in range(len(board[0])):\n",
    "                if self.backtrace(board, word, i, j, 0):\n",
    "                    return True\n",
    "        return False\n",
    "    \n",
    "    def backtrace(self, board, word, i, j, k):\n",
    "        \"\"\"以board[i][j] 开头是否能找到.\"\"\"\n",
    "        if k == len(word):\n",
    "            return True\n",
    "        m, n = len(board), len(board[0])\n",
    "        if not((0 <= i < m) and (0 <= j < n)):\n",
    "            return False\n",
    "        if board[i][j] != word[k]:\n",
    "            return False\n",
    "        \n",
    "        board[i][j] = '0'\n",
    "        if (\n",
    "            self.backtrace(board, word, i+1, j, k+1) \n",
    "            or self.backtrace(board, word, i-1, j, k+1)\n",
    "            or self.backtrace(board, word, i, j+1, k+1)\n",
    "            or self.backtrace(board, word, i, j-1, k+1)\n",
    "        ):\n",
    "            return True\n",
    "        board[i][j] = word[k]\n",
    "        return False"
   ]
  },
  {
   "cell_type": "code",
   "execution_count": 23,
   "metadata": {},
   "outputs": [
    {
     "data": {
      "text/plain": [
       "True"
      ]
     },
     "execution_count": 23,
     "metadata": {},
     "output_type": "execute_result"
    }
   ],
   "source": [
    "board =[\n",
    "  ['A','B','C','E'],\n",
    "  ['S','F','C','S'],\n",
    "  ['A','D','E','E']\n",
    "]\n",
    "word = \"SEE\"\n",
    "Solution().exist(board, word)"
   ]
  },
  {
   "cell_type": "code",
   "execution_count": 13,
   "metadata": {},
   "outputs": [
    {
     "data": {
      "text/plain": [
       "[['A', 'B', 'C', 'E'], ['S', 'F', 'C', 'S'], ['A', 'D', 'E', 'E']]"
      ]
     },
     "execution_count": 13,
     "metadata": {},
     "output_type": "execute_result"
    }
   ],
   "source": [
    "board"
   ]
  },
  {
   "cell_type": "code",
   "execution_count": null,
   "metadata": {},
   "outputs": [],
   "source": []
  }
 ],
 "metadata": {
  "kernelspec": {
   "display_name": "Python 3",
   "language": "python",
   "name": "python3"
  },
  "language_info": {
   "codemirror_mode": {
    "name": "ipython",
    "version": 3
   },
   "file_extension": ".py",
   "mimetype": "text/x-python",
   "name": "python",
   "nbconvert_exporter": "python",
   "pygments_lexer": "ipython3",
   "version": "3.6.10"
  }
 },
 "nbformat": 4,
 "nbformat_minor": 4
}
