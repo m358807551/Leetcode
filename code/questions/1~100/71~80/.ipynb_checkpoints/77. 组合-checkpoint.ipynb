{
 "cells": [
  {
   "cell_type": "markdown",
   "metadata": {},
   "source": [
    "[77. 组合](https://leetcode-cn.com/problems/combinations/)"
   ]
  },
  {
   "cell_type": "code",
   "execution_count": 6,
   "metadata": {},
   "outputs": [],
   "source": [
    "class Solution(object):\n",
    "    def combine(self, n, k):\n",
    "        \"\"\"\n",
    "        :type n: int\n",
    "        :type k: int\n",
    "        :rtype: List[List[int]]\n",
    "        \"\"\"\n",
    "        self.n, self.k = n, k\n",
    "        self.rst = []\n",
    "        self.backtrace([])\n",
    "        return self.rst\n",
    "    \n",
    "    def backtrace(self, trace):\n",
    "        if len(trace) == self.k:\n",
    "            self.rst.append(trace[:])\n",
    "            return\n",
    "        start = (trace[-1] + 1) if trace else 1\n",
    "        for num in range(start, self.n+1):\n",
    "            trace.append(num)\n",
    "            self.backtrace(trace)\n",
    "            trace.pop(-1)\n"
   ]
  },
  {
   "cell_type": "code",
   "execution_count": 7,
   "metadata": {},
   "outputs": [
    {
     "data": {
      "text/plain": [
       "[[1, 2], [1, 3], [1, 4], [2, 3], [2, 4], [3, 4]]"
      ]
     },
     "execution_count": 7,
     "metadata": {},
     "output_type": "execute_result"
    }
   ],
   "source": [
    "Solution().combine(4, 2)"
   ]
  },
  {
   "cell_type": "code",
   "execution_count": null,
   "metadata": {},
   "outputs": [],
   "source": []
  }
 ],
 "metadata": {
  "kernelspec": {
   "display_name": "Python 3",
   "language": "python",
   "name": "python3"
  },
  "language_info": {
   "codemirror_mode": {
    "name": "ipython",
    "version": 3
   },
   "file_extension": ".py",
   "mimetype": "text/x-python",
   "name": "python",
   "nbconvert_exporter": "python",
   "pygments_lexer": "ipython3",
   "version": "3.6.10"
  }
 },
 "nbformat": 4,
 "nbformat_minor": 4
}
