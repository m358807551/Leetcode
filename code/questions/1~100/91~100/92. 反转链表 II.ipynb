{
 "cells": [
  {
   "cell_type": "markdown",
   "metadata": {},
   "source": [
    "[92. 反转链表 II](https://leetcode-cn.com/problems/reverse-linked-list-ii/)"
   ]
  },
  {
   "cell_type": "code",
   "execution_count": 1,
   "metadata": {},
   "outputs": [],
   "source": [
    "# Definition for singly-linked list.\n",
    "# class ListNode(object):\n",
    "#     def __init__(self, val=0, next=None):\n",
    "#         self.val = val\n",
    "#         self.next = next\n",
    "class Solution(object):\n",
    "    def reverseBetween(self, head, left, right):\n",
    "        \"\"\"\n",
    "        :type head: ListNode\n",
    "        :type left: int\n",
    "        :type right: int\n",
    "        :rtype: ListNode\n",
    "        \"\"\"\n",
    "        if left == 1:\n",
    "            return self.reverse_k(head, right)\n",
    "        else:\n",
    "            head.next = self.reverseBetween(head.next, left-1, right-1)\n",
    "            return head\n",
    "    \n",
    "    def reverse_k(self, head, k):\n",
    "        if k <= 1:\n",
    "            return head\n",
    "        rst = self.reverse_k(head.next, k-1)\n",
    "        head.next.next, head.next = head, head.next.next\n",
    "        return rst"
   ]
  },
  {
   "cell_type": "code",
   "execution_count": null,
   "metadata": {},
   "outputs": [],
   "source": []
  }
 ],
 "metadata": {
  "kernelspec": {
   "display_name": "Python 3",
   "language": "python",
   "name": "python3"
  },
  "language_info": {
   "codemirror_mode": {
    "name": "ipython",
    "version": 3
   },
   "file_extension": ".py",
   "mimetype": "text/x-python",
   "name": "python",
   "nbconvert_exporter": "python",
   "pygments_lexer": "ipython3",
   "version": "3.6.10"
  }
 },
 "nbformat": 4,
 "nbformat_minor": 4
}
