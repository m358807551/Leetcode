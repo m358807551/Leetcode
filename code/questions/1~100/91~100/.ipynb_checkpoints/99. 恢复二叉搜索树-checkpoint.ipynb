{
 "cells": [
  {
   "cell_type": "markdown",
   "metadata": {},
   "source": [
    "[99. 恢复二叉搜索树](https://leetcode-cn.com/problems/recover-binary-search-tree/)"
   ]
  },
  {
   "cell_type": "code",
   "execution_count": 13,
   "metadata": {},
   "outputs": [],
   "source": [
    "# Definition for a binary tree node.\n",
    "# class TreeNode(object):\n",
    "#     def __init__(self, val=0, left=None, right=None):\n",
    "#         self.val = val\n",
    "#         self.left = left\n",
    "#         self.right = right\n",
    "class Solution(object):\n",
    "    def recoverTree(self, root):\n",
    "        \"\"\"\n",
    "        :type root: TreeNode\n",
    "        :rtype: None Do not return anything, modify root in-place instead.\n",
    "        \"\"\"\n",
    "        first, second = None, None\n",
    "        stack = [(root, 1)]\n",
    "        rst = []\n",
    "        while stack:\n",
    "            x, type_ = stack.pop(-1)\n",
    "            if type_ == 1 and (x is not None):\n",
    "                stack.extend([(x.right, 1), (x, 0), (x.left, 1)])\n",
    "            elif type_ == 0:\n",
    "                rst.append(x)\n",
    "        for i in range(len(rst)-1):\n",
    "            if rst[i].val > rst[i+1].val:\n",
    "                if not first:\n",
    "                    first, second = rst[i], rst[i+1]\n",
    "                else:\n",
    "                    second = rst[i+1]\n",
    "        first.val, second.val = second.val, first.val"
   ]
  },
  {
   "cell_type": "code",
   "execution_count": 3,
   "metadata": {},
   "outputs": [
    {
     "data": {
      "text/plain": [
       "0.175"
      ]
     },
     "execution_count": 3,
     "metadata": {},
     "output_type": "execute_result"
    }
   ],
   "source": [
    "28 / 160"
   ]
  }
 ],
 "metadata": {
  "kernelspec": {
   "display_name": "Python 3",
   "language": "python",
   "name": "python3"
  },
  "language_info": {
   "codemirror_mode": {
    "name": "ipython",
    "version": 3
   },
   "file_extension": ".py",
   "mimetype": "text/x-python",
   "name": "python",
   "nbconvert_exporter": "python",
   "pygments_lexer": "ipython3",
   "version": "3.6.10"
  }
 },
 "nbformat": 4,
 "nbformat_minor": 4
}
