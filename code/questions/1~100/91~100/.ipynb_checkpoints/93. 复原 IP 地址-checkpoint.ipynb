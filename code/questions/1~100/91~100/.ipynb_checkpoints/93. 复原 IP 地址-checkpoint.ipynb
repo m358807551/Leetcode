{
 "cells": [
  {
   "cell_type": "markdown",
   "metadata": {},
   "source": [
    "[93. 复原 IP 地址](https://leetcode-cn.com/problems/restore-ip-addresses/)"
   ]
  },
  {
   "cell_type": "code",
   "execution_count": 2,
   "metadata": {},
   "outputs": [],
   "source": [
    "class Solution(object):\n",
    "    def restoreIpAddresses(self, s):\n",
    "        \"\"\"\n",
    "        :type s: str\n",
    "        :rtype: List[str]\n",
    "        \"\"\"\n",
    "        self.rst = []\n",
    "        self.backtrace([], s)\n",
    "        return self.rst\n",
    "    \n",
    "    def backtrace(self, trace, s):\n",
    "        if not s:\n",
    "            if len(trace) == 4:\n",
    "                self.rst.append('.'.join(trace))\n",
    "            return\n",
    "        \n",
    "        trace.append(s[:1])\n",
    "        self.backtrace(trace, s[1:])\n",
    "        trace.pop(-1)\n",
    "        \n",
    "        if int(s[:2]) >= 10:\n",
    "            trace.append(s[:2])\n",
    "            self.backtrace(trace, s[2:])\n",
    "            trace.pop(-1)\n",
    "        \n",
    "        if 100 <= int(s[:3]) <= 255:\n",
    "            trace.append(s[:3])\n",
    "            self.backtrace(trace, s[3:])\n",
    "            trace.pop(-1)"
   ]
  },
  {
   "cell_type": "code",
   "execution_count": 3,
   "metadata": {},
   "outputs": [
    {
     "data": {
      "text/plain": [
       "['1.0.10.23', '1.0.102.3', '10.1.0.23', '10.10.2.3', '101.0.2.3']"
      ]
     },
     "execution_count": 3,
     "metadata": {},
     "output_type": "execute_result"
    }
   ],
   "source": [
    "Solution().restoreIpAddresses(\"101023\")"
   ]
  },
  {
   "cell_type": "code",
   "execution_count": null,
   "metadata": {},
   "outputs": [],
   "source": []
  }
 ],
 "metadata": {
  "kernelspec": {
   "display_name": "Python 3",
   "language": "python",
   "name": "python3"
  },
  "language_info": {
   "codemirror_mode": {
    "name": "ipython",
    "version": 3
   },
   "file_extension": ".py",
   "mimetype": "text/x-python",
   "name": "python",
   "nbconvert_exporter": "python",
   "pygments_lexer": "ipython3",
   "version": "3.6.10"
  }
 },
 "nbformat": 4,
 "nbformat_minor": 4
}
