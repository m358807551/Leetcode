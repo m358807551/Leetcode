{
 "cells": [
  {
   "cell_type": "markdown",
   "metadata": {},
   "source": [
    "[91. 解码方法](https://leetcode-cn.com/problems/decode-ways/)"
   ]
  },
  {
   "cell_type": "code",
   "execution_count": 19,
   "metadata": {},
   "outputs": [],
   "source": [
    "from pprint import pprint"
   ]
  },
  {
   "cell_type": "code",
   "execution_count": 1,
   "metadata": {},
   "outputs": [],
   "source": [
    "class Solution(object):\n",
    "    def numDecodings(self, s):\n",
    "        \"\"\"\n",
    "        :type s: str\n",
    "        :rtype: int\n",
    "        \"\"\"\n",
    "        n = len(s)\n",
    "        if n == 1:\n",
    "            return 0 if s == \"0\" else 1\n",
    "        elif n == 2:\n",
    "            rst = 0\n",
    "            if \"10\" <= s <= \"26\":\n",
    "                rst += 1\n",
    "            if s[-1] != \"0\":\n",
    "                rst += 1\n",
    "            return rst\n",
    "        \n",
    "        dp = [0] * n\n",
    "        for i in range(n):\n",
    "            if i == 0:\n",
    "                dp[0] = 0 if s == \"0\" else 1\n",
    "            elif i == 1:\n",
    "                if \"10\" <= s[i-1:i+1] <= \"26\":\n",
    "                    dp[i] += 1\n",
    "                if s[i] != \"0\":\n",
    "                    dp[i] += 1\n",
    "            else:\n",
    "                if \"10\" <= s[i-1:i+1] <= \"26\":\n",
    "                    dp[i] += dp[i-2]\n",
    "                if s[i] != \"0\":\n",
    "                    dp[i] += dp[i-1]\n",
    "            if not dp[i]:\n",
    "                return 0\n",
    "        return dp[-1]"
   ]
  },
  {
   "cell_type": "code",
   "execution_count": 2,
   "metadata": {},
   "outputs": [
    {
     "data": {
      "text/plain": [
       "3"
      ]
     },
     "execution_count": 2,
     "metadata": {},
     "output_type": "execute_result"
    }
   ],
   "source": [
    "Solution().numDecodings(\"226\")"
   ]
  },
  {
   "cell_type": "code",
   "execution_count": null,
   "metadata": {},
   "outputs": [],
   "source": []
  }
 ],
 "metadata": {
  "kernelspec": {
   "display_name": "Python 3",
   "language": "python",
   "name": "python3"
  },
  "language_info": {
   "codemirror_mode": {
    "name": "ipython",
    "version": 3
   },
   "file_extension": ".py",
   "mimetype": "text/x-python",
   "name": "python",
   "nbconvert_exporter": "python",
   "pygments_lexer": "ipython3",
   "version": "3.6.10"
  }
 },
 "nbformat": 4,
 "nbformat_minor": 4
}
