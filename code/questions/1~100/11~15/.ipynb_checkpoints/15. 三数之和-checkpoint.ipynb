{
 "cells": [
  {
   "cell_type": "markdown",
   "metadata": {},
   "source": [
    "[15. 三数之和](https://leetcode-cn.com/problems/3sum/)"
   ]
  },
  {
   "cell_type": "code",
   "execution_count": 12,
   "metadata": {},
   "outputs": [],
   "source": [
    "class Solution(object):\n",
    "    def threeSum(self, nums):\n",
    "        \"\"\"\n",
    "        :type nums: List[int]\n",
    "        :rtype: List[List[int]]\n",
    "        \"\"\"\n",
    "        nums.sort()\n",
    "        i, j, k = 0, 1, len(nums)-1\n",
    "        rst = []\n",
    "        while j != k:\n",
    "            if nums[i] + nums[j] + nums[k] == 0:\n",
    "                rst.append([nums[i], nums[j], nums[k]])\n",
    "                i += 1\n",
    "                j = i + 1\n",
    "                k = len(nums)-1\n",
    "            elif nums[i] + nums[j] + nums[k] < 0:\n",
    "                j += 1"
   ]
  },
  {
   "cell_type": "code",
   "execution_count": 11,
   "metadata": {},
   "outputs": [
    {
     "name": "stdout",
     "output_type": "stream",
     "text": [
      "[-4, -1, 2]\n",
      "[-4, -1, 2]\n",
      "[-4, 0, 2]\n",
      "[-4, 1, 2]\n",
      "[-1, -1, 2]\n",
      "[-1, 0, 2]\n",
      "[-1, 0, 1]\n",
      "[-1, 0, 2]\n",
      "[-1, 0, 1]\n",
      "[0, 1, 2]\n"
     ]
    },
    {
     "data": {
      "text/plain": [
       "[(-1, -1, 2), (-1, 0, 1)]"
      ]
     },
     "execution_count": 11,
     "metadata": {},
     "output_type": "execute_result"
    }
   ],
   "source": [
    "nums = [-1,0,1,2,-1,-4]\n",
    "Solution().threeSum(nums)"
   ]
  },
  {
   "cell_type": "code",
   "execution_count": null,
   "metadata": {},
   "outputs": [],
   "source": []
  }
 ],
 "metadata": {
  "kernelspec": {
   "display_name": "Python 3",
   "language": "python",
   "name": "python3"
  },
  "language_info": {
   "codemirror_mode": {
    "name": "ipython",
    "version": 3
   },
   "file_extension": ".py",
   "mimetype": "text/x-python",
   "name": "python",
   "nbconvert_exporter": "python",
   "pygments_lexer": "ipython3",
   "version": "3.6.10"
  }
 },
 "nbformat": 4,
 "nbformat_minor": 4
}
