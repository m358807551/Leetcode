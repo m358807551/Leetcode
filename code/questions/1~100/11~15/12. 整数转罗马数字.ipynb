{
 "cells": [
  {
   "cell_type": "markdown",
   "metadata": {},
   "source": [
    "[12. 整数转罗马数字](https://leetcode-cn.com/problems/integer-to-roman/)"
   ]
  },
  {
   "cell_type": "code",
   "execution_count": 2,
   "metadata": {},
   "outputs": [],
   "source": [
    "class Solution(object):\n",
    "    def intToRoman(self, num):\n",
    "        \"\"\"\n",
    "        :type num: int\n",
    "        :rtype: str\n",
    "        \"\"\"\n",
    "        lis = [\n",
    "            (1000, \"M\"),\n",
    "            (900, \"CM\"),\n",
    "            (500, \"D\"),\n",
    "            (400, \"CD\"),\n",
    "            (100, \"C\"),\n",
    "            (90, \"XC\"),\n",
    "            (50, \"L\"),\n",
    "            (40, \"XL\"),\n",
    "            (10, \"X\"),\n",
    "            (9, \"IX\"),\n",
    "            (5, \"V\"),\n",
    "            (4, \"IV\"),\n",
    "            (1, \"I\"),\n",
    "        ]\n",
    "        rst = \"\"\n",
    "        while num:\n",
    "            for n, s in lis:\n",
    "                if num >= n:\n",
    "                    rst += s\n",
    "                    num -= n\n",
    "                    break\n",
    "        return rst"
   ]
  },
  {
   "cell_type": "code",
   "execution_count": null,
   "metadata": {},
   "outputs": [],
   "source": []
  }
 ],
 "metadata": {
  "kernelspec": {
   "display_name": "Python 3",
   "language": "python",
   "name": "python3"
  },
  "language_info": {
   "codemirror_mode": {
    "name": "ipython",
    "version": 3
   },
   "file_extension": ".py",
   "mimetype": "text/x-python",
   "name": "python",
   "nbconvert_exporter": "python",
   "pygments_lexer": "ipython3",
   "version": "3.6.10"
  }
 },
 "nbformat": 4,
 "nbformat_minor": 4
}
