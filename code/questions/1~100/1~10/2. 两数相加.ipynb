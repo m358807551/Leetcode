{
 "cells": [
  {
   "cell_type": "code",
   "execution_count": 2,
   "metadata": {},
   "outputs": [],
   "source": [
    "# Definition for singly-linked list.\n",
    "# class ListNode(object):\n",
    "#     def __init__(self, val=0, next=None):\n",
    "#         self.val = val\n",
    "#         self.next = next\n",
    "class Solution(object):\n",
    "    def addTwoNumbers(self, l1, l2):\n",
    "        \"\"\"\n",
    "        :type l1: ListNode\n",
    "        :type l2: ListNode\n",
    "        :rtype: ListNode\n",
    "        \"\"\"\n",
    "        return self.add(l1, l2, 0)\n",
    "    \n",
    "    def add(self, h1, h2, f):\n",
    "        if (h1 or h2) is None and (f == 0):\n",
    "            return None\n",
    "        head = ListNode(f)\n",
    "        if h1:\n",
    "            head.val += h1.val\n",
    "            h1 = h1.next\n",
    "        if h2:\n",
    "            head.val += h2.val\n",
    "            h2 = h2.next\n",
    "        if head.val >= 10:\n",
    "            head.val -= 10\n",
    "            head.next = self.add(h1, h2, 1)\n",
    "        else:\n",
    "            head.next = self.add(h1, h2, 0)\n",
    "        return head"
   ]
  },
  {
   "cell_type": "code",
   "execution_count": null,
   "metadata": {},
   "outputs": [],
   "source": []
  }
 ],
 "metadata": {
  "kernelspec": {
   "display_name": "Python 3",
   "language": "python",
   "name": "python3"
  },
  "language_info": {
   "codemirror_mode": {
    "name": "ipython",
    "version": 3
   },
   "file_extension": ".py",
   "mimetype": "text/x-python",
   "name": "python",
   "nbconvert_exporter": "python",
   "pygments_lexer": "ipython3",
   "version": "3.6.10"
  }
 },
 "nbformat": 4,
 "nbformat_minor": 4
}
