{
 "cells": [
  {
   "cell_type": "markdown",
   "metadata": {},
   "source": [
    "[10. 正则表达式匹配](https://leetcode-cn.com/problems/regular-expression-matching/)"
   ]
  },
  {
   "cell_type": "code",
   "execution_count": 2,
   "metadata": {},
   "outputs": [],
   "source": [
    "class Solution(object):\n",
    "    def isMatch(self, s, p):\n",
    "        \"\"\"\n",
    "        :type s: str\n",
    "        :type p: str\n",
    "        :rtype: bool\n",
    "        \"\"\"\n",
    "        m, n = len(s), len(p)\n",
    "        dp = [ [False] * (n+1) for _ in range(m+1)]\n",
    "        dp[0][0] = True\n",
    "        for j in range(1, n+1):\n",
    "            if p[j-1] == \"*\":\n",
    "                dp[0][j] = dp[0][j-2]\n",
    "        \n",
    "        for i in range(1, m+1):\n",
    "            for j in range(1, n+1):\n",
    "                if p[j-1] == '.':\n",
    "                    dp[i][j] = dp[i-1][j-1]\n",
    "                elif p[j-1] == '*':\n",
    "                    if s[i-1] == p[j-2] or \".\" == p[j-2]:\n",
    "                        dp[i][j] = dp[i][j-2] or dp[i-1][j]\n",
    "                    else:\n",
    "                        dp[i][j] = dp[i][j-2]\n",
    "                else:\n",
    "                    if s[i-1] == p[j-1]:\n",
    "                        dp[i][j] = dp[i-1][j-1]\n",
    "#         print(dp)\n",
    "        return dp[-1][-1]"
   ]
  },
  {
   "cell_type": "code",
   "execution_count": 3,
   "metadata": {},
   "outputs": [
    {
     "data": {
      "text/plain": [
       "True"
      ]
     },
     "execution_count": 3,
     "metadata": {},
     "output_type": "execute_result"
    }
   ],
   "source": [
    "s = \"aa\"\n",
    "p = \"a*\"\n",
    "Solution().isMatch(s, p)"
   ]
  },
  {
   "cell_type": "code",
   "execution_count": null,
   "metadata": {},
   "outputs": [],
   "source": []
  }
 ],
 "metadata": {
  "kernelspec": {
   "display_name": "Python 3",
   "language": "python",
   "name": "python3"
  },
  "language_info": {
   "codemirror_mode": {
    "name": "ipython",
    "version": 3
   },
   "file_extension": ".py",
   "mimetype": "text/x-python",
   "name": "python",
   "nbconvert_exporter": "python",
   "pygments_lexer": "ipython3",
   "version": "3.6.10"
  }
 },
 "nbformat": 4,
 "nbformat_minor": 4
}
