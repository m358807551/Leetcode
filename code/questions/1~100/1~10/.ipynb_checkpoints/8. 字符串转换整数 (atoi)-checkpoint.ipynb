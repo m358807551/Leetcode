{
 "cells": [
  {
   "cell_type": "markdown",
   "metadata": {},
   "source": [
    "[8. 字符串转换整数 (atoi)](https://leetcode-cn.com/problems/string-to-integer-atoi/)"
   ]
  },
  {
   "cell_type": "code",
   "execution_count": 8,
   "metadata": {},
   "outputs": [],
   "source": [
    "class Solution(object):\n",
    "    def myAtoi(self, s):\n",
    "        \"\"\"\n",
    "        :type s: str\n",
    "        :rtype: int\n",
    "        \"\"\"\n",
    "        i = 0\n",
    "        while i < len(s) and s[i] == ' ':\n",
    "            i += 1\n",
    "        \n",
    "        rst, positive = 0, True\n",
    "        if i < len(s) and s[i] == '-':\n",
    "            positive = False\n",
    "            i += 1\n",
    "        elif i < len(s) and s[i] == '+':\n",
    "            i += 1\n",
    "        \n",
    "        while (i < len(s)) and ('0' <= s[i] <= '9'):\n",
    "            rst = rst * 10 + int(s[i])\n",
    "            i += 1\n",
    "        \n",
    "        if not positive:\n",
    "            rst = -rst\n",
    "        \n",
    "        if rst < -pow(2, 31):\n",
    "            rst = -pow(2, 31)\n",
    "        \n",
    "        if rst > (pow(2, 31) - 1):\n",
    "            rst = pow(2, 31)\n",
    "        \n",
    "        return rst"
   ]
  },
  {
   "cell_type": "code",
   "execution_count": 9,
   "metadata": {},
   "outputs": [
    {
     "data": {
      "text/plain": [
       "123"
      ]
     },
     "execution_count": 9,
     "metadata": {},
     "output_type": "execute_result"
    }
   ],
   "source": [
    "Solution().myAtoi(\"123\")"
   ]
  },
  {
   "cell_type": "code",
   "execution_count": null,
   "metadata": {},
   "outputs": [],
   "source": []
  }
 ],
 "metadata": {
  "kernelspec": {
   "display_name": "Python 3",
   "language": "python",
   "name": "python3"
  },
  "language_info": {
   "codemirror_mode": {
    "name": "ipython",
    "version": 3
   },
   "file_extension": ".py",
   "mimetype": "text/x-python",
   "name": "python",
   "nbconvert_exporter": "python",
   "pygments_lexer": "ipython3",
   "version": "3.6.10"
  }
 },
 "nbformat": 4,
 "nbformat_minor": 4
}
