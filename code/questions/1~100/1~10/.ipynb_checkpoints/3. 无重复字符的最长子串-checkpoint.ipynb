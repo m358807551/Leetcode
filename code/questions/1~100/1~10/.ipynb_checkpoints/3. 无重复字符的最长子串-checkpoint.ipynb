{
 "cells": [
  {
   "cell_type": "markdown",
   "metadata": {},
   "source": [
    "[3. 无重复字符的最长子串](https://leetcode-cn.com/problems/longest-substring-without-repeating-characters/)"
   ]
  },
  {
   "cell_type": "code",
   "execution_count": 4,
   "metadata": {},
   "outputs": [],
   "source": [
    "class Solution(object):\n",
    "    def lengthOfLongestSubstring(self, s):\n",
    "        \"\"\"\n",
    "        :type s: str\n",
    "        :rtype: int\n",
    "        \"\"\"\n",
    "        rst, i, j = 0, 0, 0\n",
    "        set_ = set()\n",
    "        while True:\n",
    "            while j < len(s) and (s[j] not in set_):\n",
    "                set_.add(s[j])\n",
    "                j += 1\n",
    "            rst = max(rst, j - i)\n",
    "            if j == len(s):\n",
    "                break\n",
    "                \n",
    "            while s[j] in set_:\n",
    "                set_.remove(s[i])\n",
    "                i += 1\n",
    "        return rst\n",
    "        "
   ]
  },
  {
   "cell_type": "code",
   "execution_count": 5,
   "metadata": {},
   "outputs": [
    {
     "data": {
      "text/plain": [
       "3"
      ]
     },
     "execution_count": 5,
     "metadata": {},
     "output_type": "execute_result"
    }
   ],
   "source": [
    "Solution().lengthOfLongestSubstring(s = \"abcabcbb\")"
   ]
  },
  {
   "cell_type": "code",
   "execution_count": null,
   "metadata": {},
   "outputs": [],
   "source": []
  }
 ],
 "metadata": {
  "kernelspec": {
   "display_name": "Python 3",
   "language": "python",
   "name": "python3"
  },
  "language_info": {
   "codemirror_mode": {
    "name": "ipython",
    "version": 3
   },
   "file_extension": ".py",
   "mimetype": "text/x-python",
   "name": "python",
   "nbconvert_exporter": "python",
   "pygments_lexer": "ipython3",
   "version": "3.6.10"
  }
 },
 "nbformat": 4,
 "nbformat_minor": 4
}
