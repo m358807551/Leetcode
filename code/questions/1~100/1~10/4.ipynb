{
 "cells": [
  {
   "cell_type": "markdown",
   "metadata": {},
   "source": [
    "# 找到有序数组的中位数\n",
    "\n",
    "找到第(n+1)/2 个数 和第 (n+2)/2 个数，这俩数的平均值就是中位数"
   ]
  },
  {
   "cell_type": "markdown",
   "metadata": {},
   "source": [
    "# 在有序数组中找第 k 个数\n",
    "\n",
    "return nums[k-1]"
   ]
  },
  {
   "cell_type": "markdown",
   "metadata": {},
   "source": [
    "# 在两个有序数组合并起来的数组中找第 k 个数"
   ]
  },
  {
   "cell_type": "code",
   "execution_count": 1,
   "metadata": {},
   "outputs": [
    {
     "data": {
      "text/plain": [
       "2.5"
      ]
     },
     "execution_count": 1,
     "metadata": {},
     "output_type": "execute_result"
    }
   ],
   "source": [
    "class Solution(object):\n",
    "    def findMedianSortedArrays(self, nums1, nums2):\n",
    "        \"\"\"\n",
    "        :type nums1: List[int]\n",
    "        :type nums2: List[int]\n",
    "        :rtype: float\n",
    "        \"\"\"\n",
    "        m, n = len(nums1), len(nums2)\n",
    "        v1 = self.find_k(nums1, 0, nums2, 0, (m+n+1)//2)\n",
    "        v2 = self.find_k(nums1, 0, nums2, 0, (m+n+2)//2)\n",
    "        return (v1 + v2) / 2.0\n",
    "        \n",
    "\n",
    "    def find_k(self, nums1, i, nums2, j, k):\n",
    "        m, n = len(nums1), len(nums2)\n",
    "        if i >= m:\n",
    "            return nums2[j+k-1]\n",
    "        elif j >= n:\n",
    "            return nums1[i+k-1]\n",
    "\n",
    "        if k == 1:\n",
    "            return min(nums1[i], nums2[j])\n",
    "\n",
    "        mid1 = nums1[i+k//2-1] if i+k//2-1 < m else float(\"inf\")\n",
    "        mid2 = nums2[j+k//2-1] if j+k//2-1 < n else float(\"inf\")\n",
    "        if mid1 < mid2:\n",
    "            return self.find_k(nums1, i+k//2, nums2, j, k-k//2)\n",
    "        else:\n",
    "            return self.find_k(nums1, i, nums2, j+k//2, k-k//2)\n",
    "\n",
    "\n",
    "Solution().findMedianSortedArrays(\n",
    "    [1, 2],\n",
    "    [3, 4]\n",
    ")"
   ]
  },
  {
   "cell_type": "code",
   "execution_count": null,
   "metadata": {},
   "outputs": [],
   "source": []
  }
 ],
 "metadata": {
  "kernelspec": {
   "display_name": "Python 3",
   "language": "python",
   "name": "python3"
  },
  "language_info": {
   "codemirror_mode": {
    "name": "ipython",
    "version": 3
   },
   "file_extension": ".py",
   "mimetype": "text/x-python",
   "name": "python",
   "nbconvert_exporter": "python",
   "pygments_lexer": "ipython3",
   "version": "3.6.10"
  }
 },
 "nbformat": 4,
 "nbformat_minor": 4
}
