{
 "cells": [
  {
   "cell_type": "markdown",
   "metadata": {},
   "source": [
    "[20. 有效的括号](https://leetcode-cn.com/problems/valid-parentheses/)"
   ]
  },
  {
   "cell_type": "code",
   "execution_count": 2,
   "metadata": {},
   "outputs": [],
   "source": [
    "class Solution(object):\n",
    "    def isValid(self, s):\n",
    "        \"\"\"\n",
    "        :type s: str\n",
    "        :rtype: bool\n",
    "        \"\"\"\n",
    "        stack = []\n",
    "        d = {')': '(', \"]\": \"[\", \"}\": \"{\"}\n",
    "        for letter in s:\n",
    "            if letter in d.values():\n",
    "                stack.append(letter)\n",
    "            elif stack and (stack[-1] == d[letter]):\n",
    "                stack.pop(-1)\n",
    "            else:\n",
    "                return False\n",
    "        return len(stack) == 0"
   ]
  }
 ],
 "metadata": {
  "kernelspec": {
   "display_name": "Python 3",
   "language": "python",
   "name": "python3"
  },
  "language_info": {
   "codemirror_mode": {
    "name": "ipython",
    "version": 3
   },
   "file_extension": ".py",
   "mimetype": "text/x-python",
   "name": "python",
   "nbconvert_exporter": "python",
   "pygments_lexer": "ipython3",
   "version": "3.6.10"
  }
 },
 "nbformat": 4,
 "nbformat_minor": 4
}
