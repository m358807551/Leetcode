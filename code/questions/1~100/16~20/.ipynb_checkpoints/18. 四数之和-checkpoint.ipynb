{
 "cells": [
  {
   "cell_type": "markdown",
   "metadata": {},
   "source": [
    "[18. 四数之和](https://leetcode-cn.com/problems/4sum/)"
   ]
  },
  {
   "cell_type": "code",
   "execution_count": 4,
   "metadata": {},
   "outputs": [],
   "source": [
    "class Solution(object):\n",
    "    def fourSum(self, nums, target):\n",
    "        \"\"\"\n",
    "        :type nums: List[int]\n",
    "        :type target: int\n",
    "        :rtype: List[List[int]]\n",
    "        \"\"\"\n",
    "        rst = set()\n",
    "        nums.sort()\n",
    "        for i in range(len(nums)-3):\n",
    "            for j in range(i+1, len(nums)-2):\n",
    "                left, right = j + 1, len(nums)-1\n",
    "                while left < right:\n",
    "                    line = (nums[left], nums[right], nums[i], nums[j])\n",
    "                    sum_ = sum(line)\n",
    "                    if sum_ == target:\n",
    "                        rst.add(line)\n",
    "                        right -= 1\n",
    "                    elif sum_ < target:\n",
    "                        left += 1\n",
    "                    else:\n",
    "                        right -= 1\n",
    "        return list(rst)\n"
   ]
  },
  {
   "cell_type": "code",
   "execution_count": null,
   "metadata": {},
   "outputs": [],
   "source": []
  }
 ],
 "metadata": {
  "kernelspec": {
   "display_name": "Python 3",
   "language": "python",
   "name": "python3"
  },
  "language_info": {
   "codemirror_mode": {
    "name": "ipython",
    "version": 3
   },
   "file_extension": ".py",
   "mimetype": "text/x-python",
   "name": "python",
   "nbconvert_exporter": "python",
   "pygments_lexer": "ipython3",
   "version": "3.6.10"
  }
 },
 "nbformat": 4,
 "nbformat_minor": 4
}
