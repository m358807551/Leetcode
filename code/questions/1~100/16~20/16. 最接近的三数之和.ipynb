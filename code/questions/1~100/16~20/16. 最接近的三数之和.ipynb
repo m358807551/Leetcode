{
 "cells": [
  {
   "cell_type": "markdown",
   "metadata": {},
   "source": [
    "[16. 最接近的三数之和](https://leetcode-cn.com/problems/3sum-closest/)"
   ]
  },
  {
   "cell_type": "code",
   "execution_count": 8,
   "metadata": {},
   "outputs": [],
   "source": [
    "class Solution(object):\n",
    "    def threeSumClosest(self, nums, target):\n",
    "        \"\"\"\n",
    "        :type nums: List[int]\n",
    "        :type target: int\n",
    "        :rtype: int\n",
    "        \"\"\"\n",
    "        nums.sort()\n",
    "        rst = nums[0] + nums[1] + nums[2]\n",
    "        for i in range(len(nums)-2):\n",
    "            j, k = i+1, len(nums)-1\n",
    "            while j < k:\n",
    "                sum_ = nums[i] + nums[j] + nums[k]\n",
    "                if abs(sum_ - target) < abs(rst - target):\n",
    "                    rst = sum_\n",
    "                if sum_ > target:\n",
    "                    k -= 1\n",
    "                else:\n",
    "                    j += 1\n",
    "                \n",
    "        return rst"
   ]
  },
  {
   "cell_type": "code",
   "execution_count": 9,
   "metadata": {},
   "outputs": [
    {
     "data": {
      "text/plain": [
       "2"
      ]
     },
     "execution_count": 9,
     "metadata": {},
     "output_type": "execute_result"
    }
   ],
   "source": [
    "nums = [-1,2,1,-4]\n",
    "target = 1\n",
    "Solution().threeSumClosest(nums, target)"
   ]
  }
 ],
 "metadata": {
  "kernelspec": {
   "display_name": "Python 3",
   "language": "python",
   "name": "python3"
  },
  "language_info": {
   "codemirror_mode": {
    "name": "ipython",
    "version": 3
   },
   "file_extension": ".py",
   "mimetype": "text/x-python",
   "name": "python",
   "nbconvert_exporter": "python",
   "pygments_lexer": "ipython3",
   "version": "3.6.10"
  }
 },
 "nbformat": 4,
 "nbformat_minor": 4
}
