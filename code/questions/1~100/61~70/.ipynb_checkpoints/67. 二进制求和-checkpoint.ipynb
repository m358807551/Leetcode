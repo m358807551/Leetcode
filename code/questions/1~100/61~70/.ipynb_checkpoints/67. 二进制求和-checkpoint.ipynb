{
 "cells": [
  {
   "cell_type": "markdown",
   "metadata": {},
   "source": [
    "[67. 二进制求和](https://leetcode-cn.com/problems/add-binary/)"
   ]
  },
  {
   "cell_type": "code",
   "execution_count": 15,
   "metadata": {},
   "outputs": [],
   "source": [
    "class Solution(object):\n",
    "    def addBinary(self, a, b):\n",
    "        \"\"\"\n",
    "        :type a: str\n",
    "        :type b: str\n",
    "        :rtype: str\n",
    "        \"\"\"\n",
    "        a, b = a[::-1], b[::-1]\n",
    "        rst = [0] * (max(len(a), len(b)) + 1)\n",
    "        for i in range(max(len(a), len(b))):\n",
    "            rst[i] += int(a[i]) if i < len(a) else 0\n",
    "            rst[i] += int(b[i]) if i < len(b) else 0\n",
    "        for i in range(len(rst)-1):\n",
    "            if rst[i] > 1:\n",
    "                rst[i] = rst[i] % 2\n",
    "                rst[i+1] += 1\n",
    "        rst = \"\".join([str(x) for x in rst])\n",
    "        return rst[::-1].lstrip(\"0\") or \"0\""
   ]
  },
  {
   "cell_type": "code",
   "execution_count": 16,
   "metadata": {},
   "outputs": [
    {
     "data": {
      "text/plain": [
       "'11110'"
      ]
     },
     "execution_count": 16,
     "metadata": {},
     "output_type": "execute_result"
    }
   ],
   "source": [
    "Solution().addBinary(\"1111\", \"1111\")"
   ]
  }
 ],
 "metadata": {
  "kernelspec": {
   "display_name": "Python 3",
   "language": "python",
   "name": "python3"
  },
  "language_info": {
   "codemirror_mode": {
    "name": "ipython",
    "version": 3
   },
   "file_extension": ".py",
   "mimetype": "text/x-python",
   "name": "python",
   "nbconvert_exporter": "python",
   "pygments_lexer": "ipython3",
   "version": "3.6.10"
  }
 },
 "nbformat": 4,
 "nbformat_minor": 4
}
