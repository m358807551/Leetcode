{
 "cells": [
  {
   "cell_type": "markdown",
   "metadata": {},
   "source": [
    "[63. 不同路径 II](https://leetcode-cn.com/problems/unique-paths-ii/)"
   ]
  },
  {
   "cell_type": "code",
   "execution_count": 4,
   "metadata": {},
   "outputs": [],
   "source": [
    "class Solution(object):\n",
    "    def uniquePathsWithObstacles(self, obstacleGrid):\n",
    "        \"\"\"\n",
    "        :type obstacleGrid: List[List[int]]\n",
    "        :rtype: int\n",
    "        \"\"\"\n",
    "        m, n = len(obstacleGrid), len(obstacleGrid[0])\n",
    "        dp = [ [0] * n for _ in range(m)]\n",
    "        for i in range(m):\n",
    "            if obstacleGrid[i][0] == 0:\n",
    "                dp[i][0] = 1\n",
    "            else:\n",
    "                break\n",
    "        \n",
    "        for j in range(n):\n",
    "            if obstacleGrid[0][j] == 0:\n",
    "                dp[0][j] = 1\n",
    "            else:\n",
    "                break\n",
    "        \n",
    "        for i in range(1, m):\n",
    "            for j in range(1, n):\n",
    "                if obstacleGrid[i][j] == 0:\n",
    "                    dp[i][j] = dp[i-1][j] + dp[i][j-1]\n",
    "        \n",
    "        return dp[-1][-1]"
   ]
  },
  {
   "cell_type": "code",
   "execution_count": 5,
   "metadata": {},
   "outputs": [
    {
     "data": {
      "text/plain": [
       "2"
      ]
     },
     "execution_count": 5,
     "metadata": {},
     "output_type": "execute_result"
    }
   ],
   "source": [
    "obstacleGrid = [[0,0,0],[0,1,0],[0,0,0]]\n",
    "Solution().uniquePathsWithObstacles(obstacleGrid)"
   ]
  },
  {
   "cell_type": "code",
   "execution_count": null,
   "metadata": {},
   "outputs": [],
   "source": []
  }
 ],
 "metadata": {
  "kernelspec": {
   "display_name": "Python 3",
   "language": "python",
   "name": "python3"
  },
  "language_info": {
   "codemirror_mode": {
    "name": "ipython",
    "version": 3
   },
   "file_extension": ".py",
   "mimetype": "text/x-python",
   "name": "python",
   "nbconvert_exporter": "python",
   "pygments_lexer": "ipython3",
   "version": "3.6.10"
  }
 },
 "nbformat": 4,
 "nbformat_minor": 4
}
