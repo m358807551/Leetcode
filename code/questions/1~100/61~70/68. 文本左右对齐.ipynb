{
 "cells": [
  {
   "cell_type": "markdown",
   "metadata": {},
   "source": [
    "[68. 文本左右对齐](https://leetcode-cn.com/problems/text-justification/)"
   ]
  },
  {
   "cell_type": "code",
   "execution_count": 46,
   "metadata": {},
   "outputs": [],
   "source": [
    "class Solution(object):\n",
    "    def fullJustify(self, words, maxWidth):\n",
    "        \"\"\"\n",
    "        :type words: List[str]\n",
    "        :type maxWidth: int\n",
    "        :rtype: List[str]\n",
    "        \"\"\"\n",
    "        rst = []\n",
    "        queue, wordLenInQueue = [], 0\n",
    "        for word in words:\n",
    "            if (not queue) or (wordLenInQueue + len(word) + len(queue) <= maxWidth):\n",
    "                queue.append(word)\n",
    "                wordLenInQueue += len(word)\n",
    "            else:\n",
    "                rst.append(self.makeLine(queue, maxWidth))\n",
    "                queue = [word]\n",
    "                wordLenInQueue = len(word)\n",
    "        if queue:\n",
    "            rst.append(self.makeLine(queue, maxWidth))\n",
    "        \n",
    "        if rst:\n",
    "            rst[-1] = \" \".join(rst[-1].split())\n",
    "            rst[-1] += ' ' * (maxWidth - len(rst[-1]))\n",
    "        \n",
    "        return rst\n",
    "        \n",
    "    def makeLine(self, words, maxWidth):\n",
    "        n = len(words)\n",
    "        spaceNums = [0] * n\n",
    "        spaceCount = maxWidth - len(\"\".join(words))\n",
    "        i = 0\n",
    "        while spaceCount:\n",
    "            spaceNums[i] += 1\n",
    "            i += 1\n",
    "            if i >= n-1:\n",
    "                i = 0\n",
    "            spaceCount -= 1\n",
    "        rst = \"\"\n",
    "        for i in range(n):\n",
    "            rst += words[i]\n",
    "            rst += \" \" * spaceNums[i]\n",
    "        return rst"
   ]
  },
  {
   "cell_type": "code",
   "execution_count": 47,
   "metadata": {},
   "outputs": [
    {
     "data": {
      "text/plain": [
       "['What   must   be', 'acknowledgment  ', 'shall be        ']"
      ]
     },
     "execution_count": 47,
     "metadata": {},
     "output_type": "execute_result"
    }
   ],
   "source": [
    "Solution().fullJustify(\n",
    "   [\"What\",\"must\",\"be\",\"acknowledgment\",\"shall\",\"be\"],\n",
    "16\n",
    ")\n",
    "\n",
    "# Solution().makeLine(['shall', 'be'], 16)"
   ]
  },
  {
   "cell_type": "code",
   "execution_count": null,
   "metadata": {},
   "outputs": [],
   "source": []
  }
 ],
 "metadata": {
  "kernelspec": {
   "display_name": "Python 3",
   "language": "python",
   "name": "python3"
  },
  "language_info": {
   "codemirror_mode": {
    "name": "ipython",
    "version": 3
   },
   "file_extension": ".py",
   "mimetype": "text/x-python",
   "name": "python",
   "nbconvert_exporter": "python",
   "pygments_lexer": "ipython3",
   "version": "3.6.10"
  }
 },
 "nbformat": 4,
 "nbformat_minor": 4
}
