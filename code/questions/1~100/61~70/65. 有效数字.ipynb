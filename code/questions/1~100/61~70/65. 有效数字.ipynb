{
 "cells": [
  {
   "cell_type": "markdown",
   "metadata": {},
   "source": [
    "[65. 有效数字](https://leetcode-cn.com/problems/valid-number/)"
   ]
  },
  {
   "cell_type": "code",
   "execution_count": 23,
   "metadata": {},
   "outputs": [],
   "source": [
    "class Solution(object):\n",
    "    def isNumber(self, s):\n",
    "        \"\"\"\n",
    "        :type s: str\n",
    "        :rtype: bool\n",
    "        \"\"\"\n",
    "        d = {\n",
    "            0: {\"+\": 1, \"-\": 1, \"9\": 2, \".\": 3},\n",
    "            1: {\"9\": 2, \".\": 3},\n",
    "            2: {\"9\": 2, \"e\": 5, \".\": 4},\n",
    "            3: {\"9\": 4},\n",
    "            4: {\"9\": 4, \"e\": 5},\n",
    "            5: {\"9\": 6, \"+\": 7, \"-\": 7},\n",
    "            6: {\"9\": 6},\n",
    "            7: {\"9\": 6}\n",
    "        }\n",
    "        final_states = {2, 4, 6}\n",
    "        state = 0\n",
    "        for letter in s:\n",
    "            letter = letter.lower()\n",
    "            if '0' <= letter <= '9':\n",
    "                letter = '9'\n",
    "            state = d[state].get(letter)\n",
    "            if state is None:\n",
    "                return False\n",
    "        return state in final_states"
   ]
  },
  {
   "cell_type": "code",
   "execution_count": 26,
   "metadata": {},
   "outputs": [
    {
     "data": {
      "text/plain": [
       "True"
      ]
     },
     "execution_count": 26,
     "metadata": {},
     "output_type": "execute_result"
    }
   ],
   "source": [
    "Solution().isNumber(\"005047e+6\")"
   ]
  }
 ],
 "metadata": {
  "kernelspec": {
   "display_name": "Python 3",
   "language": "python",
   "name": "python3"
  },
  "language_info": {
   "codemirror_mode": {
    "name": "ipython",
    "version": 3
   },
   "file_extension": ".py",
   "mimetype": "text/x-python",
   "name": "python",
   "nbconvert_exporter": "python",
   "pygments_lexer": "ipython3",
   "version": "3.6.10"
  }
 },
 "nbformat": 4,
 "nbformat_minor": 4
}
