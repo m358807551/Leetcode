{
 "cells": [
  {
   "cell_type": "markdown",
   "metadata": {},
   "source": [
    "[37. 解数独](https://leetcode-cn.com/problems/sudoku-solver/)"
   ]
  },
  {
   "cell_type": "code",
   "execution_count": 16,
   "metadata": {},
   "outputs": [],
   "source": [
    "from copy import deepcopy\n",
    "\n",
    "\n",
    "class Solution(object):\n",
    "    def solveSudoku(self, board):\n",
    "        \"\"\"\n",
    "        :type board: List[List[str]]\n",
    "        :rtype: None Do not return anything, modify board in-place instead.\n",
    "        \"\"\"\n",
    "        self.rst = None\n",
    "        self.backtrace(board, 0, 0)\n",
    "        board[:] = self.rst\n",
    "    \n",
    "    def backtrace(self, board, i, j):\n",
    "        if i >= 9:\n",
    "            self.rst = deepcopy(board)\n",
    "            return\n",
    "        if board[i][j] != \".\":\n",
    "            self.backtrace(board, i+(j+1)//9, (j+1)%9)\n",
    "            return\n",
    "        for num in range(1, 10):\n",
    "            num = str(num)\n",
    "            if num in board[i]:\n",
    "                continue\n",
    "            if num in [board[i][j] for i in range(9)]:\n",
    "                continue\n",
    "            r, c = (i//3)*3, (j//3)*3\n",
    "            if num in [board[k][l] for k in range(r, r+3) for l in range(c, c+3)]:\n",
    "                continue\n",
    "            board[i][j] = num\n",
    "            self.backtrace(board, i+(j+1)//9, (j+1)%9)\n",
    "            board[i][j] = \".\"\n",
    "            "
   ]
  },
  {
   "cell_type": "code",
   "execution_count": 17,
   "metadata": {},
   "outputs": [
    {
     "data": {
      "text/plain": [
       "[['5', '3', '4', '6', '7', '8', '9', '1', '2'],\n",
       " ['6', '7', '2', '1', '9', '5', '3', '4', '8'],\n",
       " ['1', '9', '8', '3', '4', '2', '5', '6', '7'],\n",
       " ['8', '5', '9', '7', '6', '1', '4', '2', '3'],\n",
       " ['4', '2', '6', '8', '5', '3', '7', '9', '1'],\n",
       " ['7', '1', '3', '9', '2', '4', '8', '5', '6'],\n",
       " ['9', '6', '1', '5', '3', '7', '2', '8', '4'],\n",
       " ['2', '8', '7', '4', '1', '9', '6', '3', '5'],\n",
       " ['3', '4', '5', '2', '8', '6', '1', '7', '9']]"
      ]
     },
     "execution_count": 17,
     "metadata": {},
     "output_type": "execute_result"
    }
   ],
   "source": [
    "board = [\n",
    "    ['5', '3', '.', '.', '7', '.', '.', '.', '.'],\n",
    "    ['6', '.', '.', '1', '9', '5', '.', '.', '.'],\n",
    "    ['.', '9', '8', '.', '.', '.', '.', '6', '.'],\n",
    "    ['8', '.', '.', '.', '6', '.', '.', '.', '3'],\n",
    "    ['4', '.', '.', '8', '.', '3', '.', '.', '1'],\n",
    "    ['7', '.', '.', '.', '2', '.', '.', '.', '6'],\n",
    "    ['.', '6', '.', '.', '.', '.', '2', '8', '.'],\n",
    "    ['.', '.', '.', '4', '1', '9', '.', '.', '5'],\n",
    "    ['.', '.', '.', '.', '8', '.', '.', '7', '9']\n",
    "]\n",
    "Solution().solveSudoku(board)\n",
    "board"
   ]
  },
  {
   "cell_type": "code",
   "execution_count": null,
   "metadata": {},
   "outputs": [],
   "source": []
  }
 ],
 "metadata": {
  "kernelspec": {
   "display_name": "Python 3",
   "language": "python",
   "name": "python3"
  },
  "language_info": {
   "codemirror_mode": {
    "name": "ipython",
    "version": 3
   },
   "file_extension": ".py",
   "mimetype": "text/x-python",
   "name": "python",
   "nbconvert_exporter": "python",
   "pygments_lexer": "ipython3",
   "version": "3.6.10"
  }
 },
 "nbformat": 4,
 "nbformat_minor": 4
}
