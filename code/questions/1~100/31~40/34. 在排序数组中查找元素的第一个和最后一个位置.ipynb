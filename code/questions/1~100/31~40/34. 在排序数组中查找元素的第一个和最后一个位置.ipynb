{
 "cells": [
  {
   "cell_type": "markdown",
   "metadata": {},
   "source": [
    "[34. 在排序数组中查找元素的第一个和最后一个位置](https://leetcode-cn.com/problems/find-first-and-last-position-of-element-in-sorted-array/)"
   ]
  },
  {
   "cell_type": "code",
   "execution_count": 13,
   "metadata": {},
   "outputs": [],
   "source": [
    "class Solution(object):\n",
    "    def searchRange(self, nums, target):\n",
    "        \"\"\"\n",
    "        :type nums: List[int]\n",
    "        :type target: int\n",
    "        :rtype: List[int]\n",
    "        \"\"\"\n",
    "        if not nums:\n",
    "            return -1, -1\n",
    "        i, j = 0, len(nums)-1\n",
    "        while i < j:\n",
    "            mid = i + (j-i)//2\n",
    "            if target <= nums[mid]:\n",
    "                j = mid\n",
    "            else:\n",
    "                i = mid+1\n",
    "        left = i if nums[i] == target else -1\n",
    "        if left == -1:\n",
    "            return (-1, -1)\n",
    "        \n",
    "        i, j = 0, len(nums) -1 \n",
    "        while i < j:\n",
    "            mid = i + (j-i)//2\n",
    "            if target < nums[mid]:\n",
    "                j = mid\n",
    "            else:\n",
    "                i = mid + 1\n",
    "        \n",
    "        right = i if nums[i] == target else i - 1\n",
    "        \n",
    "        return left, right"
   ]
  },
  {
   "cell_type": "code",
   "execution_count": 14,
   "metadata": {},
   "outputs": [
    {
     "data": {
      "text/plain": [
       "(3, 4)"
      ]
     },
     "execution_count": 14,
     "metadata": {},
     "output_type": "execute_result"
    }
   ],
   "source": [
    "nums = [5,7,7,8,8,10]\n",
    "target = 8\n",
    "\n",
    "Solution().searchRange(nums, target)"
   ]
  }
 ],
 "metadata": {
  "kernelspec": {
   "display_name": "Python 3",
   "language": "python",
   "name": "python3"
  },
  "language_info": {
   "codemirror_mode": {
    "name": "ipython",
    "version": 3
   },
   "file_extension": ".py",
   "mimetype": "text/x-python",
   "name": "python",
   "nbconvert_exporter": "python",
   "pygments_lexer": "ipython3",
   "version": "3.6.10"
  }
 },
 "nbformat": 4,
 "nbformat_minor": 4
}
