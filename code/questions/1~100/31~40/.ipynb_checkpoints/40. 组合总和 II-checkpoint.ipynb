{
 "cells": [
  {
   "cell_type": "markdown",
   "metadata": {},
   "source": [
    "[40. 组合总和 II](https://leetcode-cn.com/problems/combination-sum-ii/)"
   ]
  },
  {
   "cell_type": "code",
   "execution_count": 4,
   "metadata": {},
   "outputs": [],
   "source": [
    "from collections import Counter\n",
    "\n",
    "\n",
    "class Solution(object):\n",
    "    def combinationSum2(self, candidates, target):\n",
    "        \"\"\"\n",
    "        :type candidates: List[int]\n",
    "        :type target: int\n",
    "        :rtype: List[List[int]]\n",
    "        \"\"\"\n",
    "        self.rst = []\n",
    "        count = Counter(candidates)\n",
    "        self.backtrace([], count, target)\n",
    "        return self.rst\n",
    "    \n",
    "    def backtrace(self, trace, count, target):\n",
    "        if target == 0:\n",
    "            self.rst.append(trace[:])\n",
    "        \n",
    "        for num in count:\n",
    "            if \n",
    "            if count[num] and num <= target:\n",
    "                trace.append(num)\n",
    "                count[num] -= 1\n",
    "                self.backtrace(trace, count, target-num)\n",
    "                trace.pop(-1)\n",
    "                count[num] += 1\n",
    "        "
   ]
  },
  {
   "cell_type": "code",
   "execution_count": 5,
   "metadata": {},
   "outputs": [
    {
     "data": {
      "text/plain": [
       "[[1, 1, 6],\n",
       " [1, 2, 5],\n",
       " [1, 7],\n",
       " [1, 6, 1],\n",
       " [1, 5, 2],\n",
       " [2, 1, 5],\n",
       " [2, 6],\n",
       " [2, 5, 1],\n",
       " [7, 1],\n",
       " [6, 1, 1],\n",
       " [6, 2],\n",
       " [5, 1, 2],\n",
       " [5, 2, 1]]"
      ]
     },
     "execution_count": 5,
     "metadata": {},
     "output_type": "execute_result"
    }
   ],
   "source": [
    "candidates = [10,1,2,7,6,1,5]\n",
    "target = 8\n",
    "Solution().combinationSum2(candidates, target)"
   ]
  },
  {
   "cell_type": "code",
   "execution_count": null,
   "metadata": {},
   "outputs": [],
   "source": []
  }
 ],
 "metadata": {
  "kernelspec": {
   "display_name": "Python 3",
   "language": "python",
   "name": "python3"
  },
  "language_info": {
   "codemirror_mode": {
    "name": "ipython",
    "version": 3
   },
   "file_extension": ".py",
   "mimetype": "text/x-python",
   "name": "python",
   "nbconvert_exporter": "python",
   "pygments_lexer": "ipython3",
   "version": "3.6.10"
  }
 },
 "nbformat": 4,
 "nbformat_minor": 4
}
