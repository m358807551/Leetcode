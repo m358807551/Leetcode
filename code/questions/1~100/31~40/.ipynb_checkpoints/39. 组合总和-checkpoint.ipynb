{
 "cells": [
  {
   "cell_type": "markdown",
   "metadata": {},
   "source": [
    "[39. 组合总和](https://leetcode-cn.com/problems/combination-sum/)"
   ]
  },
  {
   "cell_type": "code",
   "execution_count": 8,
   "metadata": {},
   "outputs": [],
   "source": [
    "class Solution(object):\n",
    "    def combinationSum(self, candidates, target):\n",
    "        \"\"\"\n",
    "        :type candidates: List[int]\n",
    "        :type target: int\n",
    "        :rtype: List[List[int]]\n",
    "        \"\"\"\n",
    "        self.nums = sorted(candidates)\n",
    "        self.rst = []\n",
    "        self.backtrace([], target)\n",
    "        return self.rst\n",
    "    \n",
    "    def backtrace(self, trace, target):\n",
    "        if target == 0:\n",
    "            self.rst.append(trace[:])\n",
    "            return\n",
    "        \n",
    "        for num in self.nums:\n",
    "            if trace and (trace[-1] > num):\n",
    "                continue\n",
    "            if num <= target:\n",
    "                trace.append(num)\n",
    "                self.backtrace(trace, target-num)\n",
    "                trace.pop(-1)\n",
    "            else:\n",
    "                break"
   ]
  },
  {
   "cell_type": "code",
   "execution_count": 9,
   "metadata": {},
   "outputs": [
    {
     "data": {
      "text/plain": [
       "[[2, 2, 2, 2], [2, 3, 3], [3, 5]]"
      ]
     },
     "execution_count": 9,
     "metadata": {},
     "output_type": "execute_result"
    }
   ],
   "source": [
    "candidates = [2,3,5]\n",
    "target = 8\n",
    "Solution().combinationSum(candidates, target)"
   ]
  },
  {
   "cell_type": "code",
   "execution_count": null,
   "metadata": {},
   "outputs": [],
   "source": []
  }
 ],
 "metadata": {
  "kernelspec": {
   "display_name": "Python 3",
   "language": "python",
   "name": "python3"
  },
  "language_info": {
   "codemirror_mode": {
    "name": "ipython",
    "version": 3
   },
   "file_extension": ".py",
   "mimetype": "text/x-python",
   "name": "python",
   "nbconvert_exporter": "python",
   "pygments_lexer": "ipython3",
   "version": "3.6.10"
  }
 },
 "nbformat": 4,
 "nbformat_minor": 4
}
