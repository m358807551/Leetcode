{
 "cells": [
  {
   "cell_type": "markdown",
   "metadata": {},
   "source": [
    "[38. 外观数列](https://leetcode-cn.com/problems/count-and-say/)"
   ]
  },
  {
   "cell_type": "code",
   "execution_count": 6,
   "metadata": {},
   "outputs": [],
   "source": [
    "class Solution(object):\n",
    "    def countAndSay(self, n):\n",
    "        \"\"\"\n",
    "        :type n: int\n",
    "        :rtype: str\n",
    "        \"\"\"\n",
    "        if n == 1:\n",
    "            return \"1\"\n",
    "        t = self.countAndSay(n-1)\n",
    "        rst = \"\"\n",
    "        char, count = \"\", 0\n",
    "        for letter in t:\n",
    "            if letter == char:\n",
    "                count += 1\n",
    "            else:\n",
    "                if count:\n",
    "                    rst += str(count) + char\n",
    "                char = letter\n",
    "                count = 1\n",
    "        if count:\n",
    "            rst += str(count) + char\n",
    "        return rst"
   ]
  },
  {
   "cell_type": "code",
   "execution_count": 8,
   "metadata": {},
   "outputs": [
    {
     "data": {
      "text/plain": [
       "'111221'"
      ]
     },
     "execution_count": 8,
     "metadata": {},
     "output_type": "execute_result"
    }
   ],
   "source": [
    "Solution().countAndSay(5)"
   ]
  },
  {
   "cell_type": "code",
   "execution_count": null,
   "metadata": {},
   "outputs": [],
   "source": []
  }
 ],
 "metadata": {
  "kernelspec": {
   "display_name": "Python 3",
   "language": "python",
   "name": "python3"
  },
  "language_info": {
   "codemirror_mode": {
    "name": "ipython",
    "version": 3
   },
   "file_extension": ".py",
   "mimetype": "text/x-python",
   "name": "python",
   "nbconvert_exporter": "python",
   "pygments_lexer": "ipython3",
   "version": "3.6.10"
  }
 },
 "nbformat": 4,
 "nbformat_minor": 4
}
