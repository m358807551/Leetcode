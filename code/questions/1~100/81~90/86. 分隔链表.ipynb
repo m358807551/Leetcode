{
 "cells": [
  {
   "cell_type": "markdown",
   "metadata": {},
   "source": [
    "[86. 分隔链表](https://leetcode-cn.com/problems/partition-list/)"
   ]
  },
  {
   "cell_type": "code",
   "execution_count": 3,
   "metadata": {},
   "outputs": [],
   "source": [
    "# Definition for singly-linked list.\n",
    "# class ListNode(object):\n",
    "#     def __init__(self, val=0, next=None):\n",
    "#         self.val = val\n",
    "#         self.next = next\n",
    "class Solution(object):\n",
    "    def partition(self, head, x):\n",
    "        \"\"\"\n",
    "        :type head: ListNode\n",
    "        :type x: int\n",
    "        :rtype: ListNode\n",
    "        \"\"\"\n",
    "        if (not head) or (not head.next):\n",
    "            return head\n",
    "        q = self.partition(head.next, x)\n",
    "        if head.val < x:\n",
    "            head.next = q\n",
    "            return head\n",
    "        else:\n",
    "            return self.insert(q, head, x)\n",
    "    \n",
    "    def insert(self, head, p, x):\n",
    "        if not head:\n",
    "            p.next = None\n",
    "            return p\n",
    "        if head.val < x:\n",
    "            head.next = self.insert(head.next, p, x)\n",
    "            return head\n",
    "        else:\n",
    "            p.next = head\n",
    "            return p"
   ]
  },
  {
   "cell_type": "code",
   "execution_count": null,
   "metadata": {},
   "outputs": [],
   "source": [
    "# Definition for singly-linked list.\n",
    "# class ListNode(object):\n",
    "#     def __init__(self, val=0, next=None):\n",
    "#         self.val = val\n",
    "#         self.next = next\n",
    "class Solution(object):\n",
    "    def partition(self, head, x):\n",
    "        \"\"\"\n",
    "        :type head: ListNode\n",
    "        :type x: int\n",
    "        :rtype: ListNode\n",
    "        \"\"\"\n",
    "        if (not head) or (not head.next):\n",
    "            return head\n",
    "        q = self.partition(head.next, x)\n",
    "        if head.val < x:\n",
    "            head.next = q\n",
    "            return head\n",
    "        else:\n",
    "            return self.insert(q, head, x)\n",
    "\n",
    "    def insert(self, head, p, x):\n",
    "        if not head:\n",
    "            p.next = None\n",
    "            return p\n",
    "        if head.val < x:\n",
    "            head.next = self.insert(head.next, p, x)\n",
    "            return head\n",
    "        else:\n",
    "            p.next = head\n",
    "            return p"
   ]
  }
 ],
 "metadata": {
  "kernelspec": {
   "display_name": "Python 3",
   "language": "python",
   "name": "python3"
  },
  "language_info": {
   "codemirror_mode": {
    "name": "ipython",
    "version": 3
   },
   "file_extension": ".py",
   "mimetype": "text/x-python",
   "name": "python",
   "nbconvert_exporter": "python",
   "pygments_lexer": "ipython3",
   "version": "3.6.10"
  }
 },
 "nbformat": 4,
 "nbformat_minor": 4
}
