{
 "cells": [
  {
   "cell_type": "markdown",
   "metadata": {},
   "source": [
    "[90. 子集 II](https://leetcode-cn.com/problems/subsets-ii/)"
   ]
  },
  {
   "cell_type": "code",
   "execution_count": 13,
   "metadata": {},
   "outputs": [],
   "source": [
    "from collections import Counter\n",
    "\n",
    "\n",
    "class Solution(object):\n",
    "    def subsetsWithDup(self, nums):\n",
    "        \"\"\"\n",
    "        :type nums: List[int]\n",
    "        :rtype: List[List[int]]\n",
    "        \"\"\"\n",
    "        self.rst = []\n",
    "        self.backtrace([], Counter(nums))\n",
    "        return self.rst\n",
    "    \n",
    "    def backtrace(self, trace, counts):\n",
    "        self.rst.append(trace[:])\n",
    "        for num in counts:\n",
    "            if trace and (trace[-1] > num):\n",
    "                continue\n",
    "            if num in trace:\n",
    "                continue\n",
    "            for i in range(1, counts[num] + 1):\n",
    "                trace.extend([num] * i)\n",
    "                counts[num] -= i\n",
    "                self.backtrace(trace, counts)\n",
    "                for _ in range(i):\n",
    "                    trace.pop(-1)\n",
    "                counts[num] += i"
   ]
  },
  {
   "cell_type": "code",
   "execution_count": 14,
   "metadata": {},
   "outputs": [
    {
     "data": {
      "text/plain": [
       "[[], [1], [1, 2], [1, 2, 2], [2], [2, 2]]"
      ]
     },
     "execution_count": 14,
     "metadata": {},
     "output_type": "execute_result"
    }
   ],
   "source": [
    "Solution().subsetsWithDup([1, 2, 2])"
   ]
  }
 ],
 "metadata": {
  "kernelspec": {
   "display_name": "Python 3",
   "language": "python",
   "name": "python3"
  },
  "language_info": {
   "codemirror_mode": {
    "name": "ipython",
    "version": 3
   },
   "file_extension": ".py",
   "mimetype": "text/x-python",
   "name": "python",
   "nbconvert_exporter": "python",
   "pygments_lexer": "ipython3",
   "version": "3.6.10"
  }
 },
 "nbformat": 4,
 "nbformat_minor": 4
}
