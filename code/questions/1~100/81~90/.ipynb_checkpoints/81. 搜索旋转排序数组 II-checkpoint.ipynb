{
 "cells": [
  {
   "cell_type": "markdown",
   "metadata": {},
   "source": [
    "[81. 搜索旋转排序数组 II](https://leetcode-cn.com/problems/search-in-rotated-sorted-array-ii/)"
   ]
  },
  {
   "cell_type": "code",
   "execution_count": 11,
   "metadata": {},
   "outputs": [],
   "source": [
    "class Solution(object):\n",
    "    def search(self, nums, target):\n",
    "        \"\"\"\n",
    "        :type nums: List[int]\n",
    "        :type target: int\n",
    "        :rtype: bool\n",
    "        \"\"\"\n",
    "        i, j = 0, len(nums)-1\n",
    "        while i < j:\n",
    "            mid = i + (j-i) // 2\n",
    "            if nums[mid+1] > nums[j]:  # 右边无序\n",
    "                if nums[i] <= target <= nums[mid]:\n",
    "                    j = mid\n",
    "                else:\n",
    "                    i = mid + 1\n",
    "            elif nums[i] > nums[mid]: # 左边无序\n",
    "                if nums[mid+1] <= target <= nums[j]:\n",
    "                    i = mid + 1\n",
    "                else:\n",
    "                    j = mid\n",
    "            else:\n",
    "                if nums[j] == target:\n",
    "                    i = j\n",
    "                else:\n",
    "                    j -= 1\n",
    "        return True if nums[i] == target else False"
   ]
  },
  {
   "cell_type": "code",
   "execution_count": 12,
   "metadata": {},
   "outputs": [
    {
     "data": {
      "text/plain": [
       "True"
      ]
     },
     "execution_count": 12,
     "metadata": {},
     "output_type": "execute_result"
    }
   ],
   "source": [
    "nums = [1, 0, 1,1, 1]\n",
    "target = 0\n",
    "Solution().search(nums, target)"
   ]
  },
  {
   "cell_type": "code",
   "execution_count": null,
   "metadata": {},
   "outputs": [],
   "source": []
  }
 ],
 "metadata": {
  "kernelspec": {
   "display_name": "Python 3",
   "language": "python",
   "name": "python3"
  },
  "language_info": {
   "codemirror_mode": {
    "name": "ipython",
    "version": 3
   },
   "file_extension": ".py",
   "mimetype": "text/x-python",
   "name": "python",
   "nbconvert_exporter": "python",
   "pygments_lexer": "ipython3",
   "version": "3.6.10"
  }
 },
 "nbformat": 4,
 "nbformat_minor": 4
}
