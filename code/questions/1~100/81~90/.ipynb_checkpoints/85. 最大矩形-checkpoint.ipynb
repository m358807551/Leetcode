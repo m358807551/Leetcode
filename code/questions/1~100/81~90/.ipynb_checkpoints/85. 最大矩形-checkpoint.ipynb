{
 "cells": [
  {
   "cell_type": "markdown",
   "metadata": {},
   "source": [
    "[85. 最大矩形](https://leetcode-cn.com/problems/maximal-rectangle/)"
   ]
  },
  {
   "cell_type": "code",
   "execution_count": 2,
   "metadata": {},
   "outputs": [],
   "source": [
    "class Solution(object):\n",
    "    def maximalRectangle(self, matrix):\n",
    "        \"\"\"\n",
    "        :type matrix: List[List[str]]\n",
    "        :rtype: int\n",
    "        \"\"\"\n",
    "        if not matrix:\n",
    "            return 0\n",
    "        m, n = len(matrix), len(matrix[0])\n",
    "        rst = 0\n",
    "        for i in range(m):\n",
    "            heights = [0] * n\n",
    "            for j in range(n):\n",
    "                for k in range(i, -1, -1):\n",
    "                    if matrix[k][j] == \"0\":\n",
    "                        break\n",
    "                    heights[j] += 1\n",
    "            rst = max(self.largest(heights), rst)\n",
    "        return rst\n",
    "\n",
    "    def largest(self, heights):\n",
    "        heights = [0] + heights + [0]\n",
    "        rst, stack = 0, []\n",
    "        for i in range(len(heights)):\n",
    "            while stack and (heights[stack[-1]] > heights[i]):\n",
    "                t = stack.pop(-1)\n",
    "                rst = max(rst, heights[t] * (i - stack[-1] -1))\n",
    "            stack.append(i)\n",
    "        return rst"
   ]
  },
  {
   "cell_type": "code",
   "execution_count": 3,
   "metadata": {},
   "outputs": [
    {
     "data": {
      "text/plain": [
       "6"
      ]
     },
     "execution_count": 3,
     "metadata": {},
     "output_type": "execute_result"
    }
   ],
   "source": [
    "matrix = [[\"1\",\"0\",\"1\",\"0\",\"0\"],[\"1\",\"0\",\"1\",\"1\",\"1\"],[\"1\",\"1\",\"1\",\"1\",\"1\"],[\"1\",\"0\",\"0\",\"1\",\"0\"]]\n",
    "\n",
    "Solution().maximalRectangle(matrix)"
   ]
  },
  {
   "cell_type": "code",
   "execution_count": null,
   "metadata": {},
   "outputs": [],
   "source": []
  }
 ],
 "metadata": {
  "kernelspec": {
   "display_name": "Python 3",
   "language": "python",
   "name": "python3"
  },
  "language_info": {
   "codemirror_mode": {
    "name": "ipython",
    "version": 3
   },
   "file_extension": ".py",
   "mimetype": "text/x-python",
   "name": "python",
   "nbconvert_exporter": "python",
   "pygments_lexer": "ipython3",
   "version": "3.6.10"
  }
 },
 "nbformat": 4,
 "nbformat_minor": 4
}
