{
 "cells": [
  {
   "cell_type": "markdown",
   "metadata": {},
   "source": [
    "[54. 螺旋矩阵](https://leetcode-cn.com/problems/spiral-matrix/)"
   ]
  },
  {
   "cell_type": "code",
   "execution_count": 2,
   "metadata": {},
   "outputs": [],
   "source": [
    "class Solution(object):\n",
    "    def spiralOrder(self, matrix):\n",
    "        \"\"\"\n",
    "        :type matrix: List[List[int]]\n",
    "        :rtype: List[int]\n",
    "        \"\"\"\n",
    "        up, down, left, right = 0, len(matrix)-1, 0, len(matrix[0])-1\n",
    "        rst = []\n",
    "        while True:\n",
    "            if not (up <= down and left <= right):\n",
    "                break\n",
    "            for i in range(left, right+1):\n",
    "                rst.append(matrix[up][i])\n",
    "            up += 1\n",
    "            \n",
    "            if not (up <= down and left <= right):\n",
    "                break\n",
    "            for i in range(up, down+1):\n",
    "                rst.append(matrix[i][right])\n",
    "            right -= 1\n",
    "            \n",
    "            if not (up <= down and left <= right):\n",
    "                break\n",
    "            for i in range(right, left-1, -1):\n",
    "                rst.append(matrix[down][i])\n",
    "            down -= 1\n",
    "            \n",
    "            if not (up <= down and left <= right):\n",
    "                break\n",
    "            for i in range(down, up-1, -1):\n",
    "                rst.append(matrix[i][left])\n",
    "            left += 1\n",
    "        return rst"
   ]
  },
  {
   "cell_type": "code",
   "execution_count": 3,
   "metadata": {},
   "outputs": [
    {
     "data": {
      "text/plain": [
       "[1, 2, 3, 6, 9, 8, 7, 4, 5]"
      ]
     },
     "execution_count": 3,
     "metadata": {},
     "output_type": "execute_result"
    }
   ],
   "source": [
    "matrix = [[1,2,3],[4,5,6],[7,8,9]]\n",
    "Solution().spiralOrder(matrix)"
   ]
  },
  {
   "cell_type": "code",
   "execution_count": null,
   "metadata": {},
   "outputs": [],
   "source": []
  }
 ],
 "metadata": {
  "kernelspec": {
   "display_name": "Python 3",
   "language": "python",
   "name": "python3"
  },
  "language_info": {
   "codemirror_mode": {
    "name": "ipython",
    "version": 3
   },
   "file_extension": ".py",
   "mimetype": "text/x-python",
   "name": "python",
   "nbconvert_exporter": "python",
   "pygments_lexer": "ipython3",
   "version": "3.6.10"
  }
 },
 "nbformat": 4,
 "nbformat_minor": 4
}
