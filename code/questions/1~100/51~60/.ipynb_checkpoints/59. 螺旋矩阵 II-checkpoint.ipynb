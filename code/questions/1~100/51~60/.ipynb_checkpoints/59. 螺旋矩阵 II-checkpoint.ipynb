{
 "cells": [
  {
   "cell_type": "markdown",
   "metadata": {},
   "source": [
    "[59. 螺旋矩阵 II](https://leetcode-cn.com/problems/spiral-matrix-ii/)"
   ]
  },
  {
   "cell_type": "code",
   "execution_count": 1,
   "metadata": {},
   "outputs": [],
   "source": [
    "class Solution(object):\n",
    "    def generateMatrix(self, n):\n",
    "        \"\"\"\n",
    "        :type n: int\n",
    "        :rtype: List[List[int]]\n",
    "        \"\"\"\n",
    "        up, down, left, right = 0, n-1, 0, n-1\n",
    "        num = 1\n",
    "        rst = [[0] * n for _ in range(n))\n",
    "        while True:\n",
    "            if not()\n",
    "            for i in range(left, right+1):\n",
    "                rst[up][i] = num\n",
    "                num += 1\n",
    "            up += 1\n",
    "            \n",
    "            for i in range(up, down+1)：\n",
    "               rst[i][right] = num\n",
    "               num += 1\n",
    "            right -= 1\n",
    "            \n",
    "            for i in range(right, left-1, -1):\n",
    "               rst[down][i] = num\n",
    "               num += 1\n",
    "            down -= 1\n",
    "            \n",
    "            for i in range(down, up-1, -1):\n",
    "               rst[i][left] = num\n",
    "               num += 1\n",
    "            left += 1\n",
    "        \n",
    "        return rst"
   ]
  },
  {
   "cell_type": "code",
   "execution_count": null,
   "metadata": {},
   "outputs": [],
   "source": []
  }
 ],
 "metadata": {
  "kernelspec": {
   "display_name": "Python 3",
   "language": "python",
   "name": "python3"
  },
  "language_info": {
   "codemirror_mode": {
    "name": "ipython",
    "version": 3
   },
   "file_extension": ".py",
   "mimetype": "text/x-python",
   "name": "python",
   "nbconvert_exporter": "python",
   "pygments_lexer": "ipython3",
   "version": "3.6.10"
  }
 },
 "nbformat": 4,
 "nbformat_minor": 4
}
