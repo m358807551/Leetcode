{
 "cells": [
  {
   "cell_type": "markdown",
   "metadata": {},
   "source": [
    "[60. 排列序列](https://leetcode-cn.com/problems/permutation-sequence/)"
   ]
  },
  {
   "cell_type": "code",
   "execution_count": 47,
   "metadata": {},
   "outputs": [],
   "source": [
    "import math\n",
    "\n",
    "\n",
    "class Solution(object):\n",
    "    def getPermutation(self, n, k):\n",
    "        \"\"\"\n",
    "        :type n: int\n",
    "        :type k: int\n",
    "        :rtype: str\n",
    "        \"\"\"\n",
    "        rst, k = '', k-1\n",
    "        s = [str(x) for x in range(1, n+1)]\n",
    "        while s:\n",
    "            m = len(s)\n",
    "            n = math.factorial(m-1)\n",
    "#             print(\"{0},{1}x{2}, k={3}, k//n={4}\".format(s, m, n, k, k//n))\n",
    "            rst += s.pop(k // n)\n",
    "            k = k % n\n",
    "        return rst"
   ]
  },
  {
   "cell_type": "code",
   "execution_count": 49,
   "metadata": {},
   "outputs": [
    {
     "name": "stdout",
     "output_type": "stream",
     "text": [
      "['1', '2', '3', '4'],4x6, k=3, k//n=0\n",
      "['2', '3', '4'],3x2, k=3, k//n=1\n",
      "['2', '4'],2x1, k=1, k//n=1\n",
      "['2'],1x1, k=0, k//n=0\n"
     ]
    },
    {
     "data": {
      "text/plain": [
       "'1342'"
      ]
     },
     "execution_count": 49,
     "metadata": {},
     "output_type": "execute_result"
    }
   ],
   "source": [
    "Solution().getPermutation(4,4)"
   ]
  },
  {
   "cell_type": "code",
   "execution_count": null,
   "metadata": {},
   "outputs": [],
   "source": []
  }
 ],
 "metadata": {
  "kernelspec": {
   "display_name": "Python 3",
   "language": "python",
   "name": "python3"
  },
  "language_info": {
   "codemirror_mode": {
    "name": "ipython",
    "version": 3
   },
   "file_extension": ".py",
   "mimetype": "text/x-python",
   "name": "python",
   "nbconvert_exporter": "python",
   "pygments_lexer": "ipython3",
   "version": "3.6.10"
  }
 },
 "nbformat": 4,
 "nbformat_minor": 4
}
