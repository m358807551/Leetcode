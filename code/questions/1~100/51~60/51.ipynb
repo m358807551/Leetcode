{
 "cells": [
  {
   "cell_type": "markdown",
   "metadata": {},
   "source": [
    "[51. N 皇后](https://leetcode-cn.com/problems/n-queens/)"
   ]
  },
  {
   "cell_type": "code",
   "execution_count": 7,
   "metadata": {},
   "outputs": [],
   "source": [
    "class Solution(object):\n",
    "    def solveNQueens(self, n):\n",
    "        \"\"\"\n",
    "        :type n: int\n",
    "        :rtype: List[List[str]]\n",
    "        \"\"\"\n",
    "        trace = [ ['.'] * n for _ in range(n)]\n",
    "        self.rst = []\n",
    "        self.backtrace(trace, 0)\n",
    "        return self.rst\n",
    "    \n",
    "    def backtrace(self, trace, i):\n",
    "        if i == len(trace):\n",
    "            self.rst.append([\n",
    "                \"\".join(line)\n",
    "                for line in trace\n",
    "            ])\n",
    "            return\n",
    "        for j in range(len(trace)):\n",
    "            if self.is_valid(trace, i, j):\n",
    "                trace[i][j] = 'Q'\n",
    "                self.backtrace(trace, i+1)\n",
    "                trace[i][j] = '.'\n",
    "            \n",
    "    def is_valid(self, trace, i, j):\n",
    "        # 纵向\n",
    "        for k in range(i):\n",
    "            if trace[k][j] == 'Q':\n",
    "                return False\n",
    "\n",
    "        # 左上\n",
    "        k = 0\n",
    "        while (0<=i-k) and (0<=j-k):\n",
    "            if trace[i-k][j-k] == 'Q':\n",
    "                return False\n",
    "            k += 1\n",
    "\n",
    "        # 右上\n",
    "        k = 0\n",
    "        while (0<=i-k) and (j+k < len(trace)):\n",
    "            if trace[i-k][j+k] == 'Q':\n",
    "                return False\n",
    "            k += 1\n",
    "        \n",
    "        return True"
   ]
  },
  {
   "cell_type": "code",
   "execution_count": 10,
   "metadata": {},
   "outputs": [
    {
     "data": {
      "text/plain": [
       "[['Q']]"
      ]
     },
     "execution_count": 10,
     "metadata": {},
     "output_type": "execute_result"
    }
   ],
   "source": [
    "Solution().solveNQueens(1)"
   ]
  },
  {
   "cell_type": "code",
   "execution_count": null,
   "metadata": {},
   "outputs": [],
   "source": []
  }
 ],
 "metadata": {
  "kernelspec": {
   "display_name": "Python 3",
   "language": "python",
   "name": "python3"
  },
  "language_info": {
   "codemirror_mode": {
    "name": "ipython",
    "version": 3
   },
   "file_extension": ".py",
   "mimetype": "text/x-python",
   "name": "python",
   "nbconvert_exporter": "python",
   "pygments_lexer": "ipython3",
   "version": "3.6.10"
  }
 },
 "nbformat": 4,
 "nbformat_minor": 4
}
