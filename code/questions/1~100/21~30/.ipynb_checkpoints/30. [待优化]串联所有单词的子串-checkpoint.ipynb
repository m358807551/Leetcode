{
 "cells": [
  {
   "cell_type": "markdown",
   "metadata": {},
   "source": [
    "[30. 串联所有单词的子串](https://leetcode-cn.com/problems/substring-with-concatenation-of-all-words/)"
   ]
  },
  {
   "cell_type": "code",
   "execution_count": 12,
   "metadata": {},
   "outputs": [],
   "source": [
    "from collections import Counter\n",
    "\n",
    "\n",
    "class Solution(object):\n",
    "    def findSubstring(self, s, words):\n",
    "        \"\"\"\n",
    "        :type s: str\n",
    "        :type words: List[str]\n",
    "        :rtype: List[int]\n",
    "        \"\"\"\n",
    "        if not(s and words):\n",
    "            return []\n",
    "        k = len(words[0])\n",
    "        n = len(words) * k\n",
    "        words = Counter(words)\n",
    "        \n",
    "        rst = []\n",
    "        for i in range(len(s)):\n",
    "            t = s[i:i+n]\n",
    "            lis = [t[j:j+k] for j in range(0, n, k)]\n",
    "            if Counter(lis) == words:\n",
    "               rst.append(i)\n",
    "        return rst"
   ]
  },
  {
   "cell_type": "code",
   "execution_count": 13,
   "metadata": {},
   "outputs": [
    {
     "data": {
      "text/plain": [
       "[0, 9]"
      ]
     },
     "execution_count": 13,
     "metadata": {},
     "output_type": "execute_result"
    }
   ],
   "source": [
    "s = \"barfoothefoobarman\"\n",
    "words = [\"foo\",\"bar\"]\n",
    "\n",
    "Solution().findSubstring(s, words)"
   ]
  }
 ],
 "metadata": {
  "kernelspec": {
   "display_name": "Python 3",
   "language": "python",
   "name": "python3"
  },
  "language_info": {
   "codemirror_mode": {
    "name": "ipython",
    "version": 3
   },
   "file_extension": ".py",
   "mimetype": "text/x-python",
   "name": "python",
   "nbconvert_exporter": "python",
   "pygments_lexer": "ipython3",
   "version": "3.6.10"
  }
 },
 "nbformat": 4,
 "nbformat_minor": 4
}
