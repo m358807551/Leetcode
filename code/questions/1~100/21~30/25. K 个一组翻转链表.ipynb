{
 "cells": [
  {
   "cell_type": "markdown",
   "metadata": {},
   "source": [
    "[25. K 个一组翻转链表](https://leetcode-cn.com/problems/reverse-nodes-in-k-group/)"
   ]
  },
  {
   "cell_type": "code",
   "execution_count": 24,
   "metadata": {},
   "outputs": [],
   "source": [
    "# Definition for singly-linked list.\n",
    "class ListNode(object):\n",
    "    def __init__(self, val=0, next=None):\n",
    "        self.val = val\n",
    "        self.next = next\n",
    "class Solution(object):\n",
    "    def reverseKGroup(self, head, k):\n",
    "        \"\"\"\n",
    "        :type head: ListNode\n",
    "        :type k: int\n",
    "        :rtype: ListNode\n",
    "        \"\"\"\n",
    "        if not self.enough(head, k):\n",
    "            return head\n",
    "        rst = self.reverseK(head, k)\n",
    "        if self.q:\n",
    "            head.next = self.reverseKGroup(self.q, k)\n",
    "        return rst\n",
    "        \n",
    "    def reverseK(self, head, k):\n",
    "        if k == 1:\n",
    "            self.q = head.next\n",
    "            return head\n",
    "        else:\n",
    "            rst = self.reverseK(head.next, k-1)\n",
    "            head.next.next, head.next = head, None\n",
    "            return rst\n",
    "    \n",
    "    def enough(self, head, k):\n",
    "        if not k:\n",
    "            return True\n",
    "        if not head:\n",
    "            return False\n",
    "        return self.enough(head.next, k-1)\n"
   ]
  },
  {
   "cell_type": "code",
   "execution_count": 25,
   "metadata": {},
   "outputs": [
    {
     "data": {
      "text/plain": [
       "<__main__.ListNode at 0x105913a20>"
      ]
     },
     "execution_count": 25,
     "metadata": {},
     "output_type": "execute_result"
    }
   ],
   "source": [
    "nodes = [ListNode(i) for i in range(3)]\n",
    "nodes[1].next = nodes[2]\n",
    "\n",
    "Solution().reverseKGroup(nodes[1], 1)"
   ]
  },
  {
   "cell_type": "code",
   "execution_count": null,
   "metadata": {},
   "outputs": [],
   "source": []
  }
 ],
 "metadata": {
  "kernelspec": {
   "display_name": "Python 3",
   "language": "python",
   "name": "python3"
  },
  "language_info": {
   "codemirror_mode": {
    "name": "ipython",
    "version": 3
   },
   "file_extension": ".py",
   "mimetype": "text/x-python",
   "name": "python",
   "nbconvert_exporter": "python",
   "pygments_lexer": "ipython3",
   "version": "3.6.10"
  }
 },
 "nbformat": 4,
 "nbformat_minor": 4
}
