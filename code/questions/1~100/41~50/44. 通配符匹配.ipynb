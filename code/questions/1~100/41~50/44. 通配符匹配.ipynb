{
 "cells": [
  {
   "cell_type": "markdown",
   "metadata": {},
   "source": [
    "[44. 通配符匹配](https://leetcode-cn.com/problems/wildcard-matching/)"
   ]
  },
  {
   "cell_type": "code",
   "execution_count": 17,
   "metadata": {},
   "outputs": [],
   "source": [
    "class Solution(object):\n",
    "    def isMatch(self, s, p):\n",
    "        \"\"\"\n",
    "        :type s: str\n",
    "        :type p: str\n",
    "        :rtype: bool\n",
    "        \"\"\"\n",
    "        m, n = len(s), len(p)\n",
    "        dp = [ [0] * (n+1) for _ in range(m+1)]\n",
    "        \n",
    "        dp[0][0] = True\n",
    "        for i in range(1, m+1):\n",
    "            dp[i][0] = False\n",
    "        for j in range(1, n+1):\n",
    "            if (dp[0][j-1]) == False or (p[j-1] != \"*\"):\n",
    "                dp[0][j] = False \n",
    "            else:\n",
    "                dp[0][j] = True\n",
    "        \n",
    "        for i in range(1, m+1):\n",
    "            for j in range(1, n+1):\n",
    "                if p[j-1] == \"?\":\n",
    "                    dp[i][j] = dp[i-1][j-1]\n",
    "                elif p[j-1] == \"*\":\n",
    "                    dp[i][j] = dp[i-1][j] or dp[i][j-1]\n",
    "                else:\n",
    "                    if s[i-1] == p[j-1]:\n",
    "                        dp[i][j] = dp[i-1][j-1]\n",
    "                    else:\n",
    "                        dp[i][j] = False\n",
    "        \n",
    "        return dp[m][n]"
   ]
  },
  {
   "cell_type": "code",
   "execution_count": 20,
   "metadata": {},
   "outputs": [
    {
     "data": {
      "text/plain": [
       "False"
      ]
     },
     "execution_count": 20,
     "metadata": {},
     "output_type": "execute_result"
    }
   ],
   "source": [
    "Solution().isMatch(\n",
    "\"aaabbbaabaaaaababaabaaabbabbbbbbbbaabababbabbbaaaaba\",\n",
    "\"a*******b\"\n",
    ")\n"
   ]
  },
  {
   "cell_type": "code",
   "execution_count": null,
   "metadata": {},
   "outputs": [],
   "source": []
  }
 ],
 "metadata": {
  "kernelspec": {
   "display_name": "Python 3",
   "language": "python",
   "name": "python3"
  },
  "language_info": {
   "codemirror_mode": {
    "name": "ipython",
    "version": 3
   },
   "file_extension": ".py",
   "mimetype": "text/x-python",
   "name": "python",
   "nbconvert_exporter": "python",
   "pygments_lexer": "ipython3",
   "version": "3.6.10"
  }
 },
 "nbformat": 4,
 "nbformat_minor": 4
}
