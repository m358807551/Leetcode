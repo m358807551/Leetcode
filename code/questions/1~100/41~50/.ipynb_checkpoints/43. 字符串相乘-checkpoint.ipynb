{
 "cells": [
  {
   "cell_type": "markdown",
   "metadata": {},
   "source": [
    "[43. 字符串相乘](https://leetcode-cn.com/problems/multiply-strings/)"
   ]
  },
  {
   "cell_type": "code",
   "execution_count": 41,
   "metadata": {},
   "outputs": [],
   "source": [
    "class Solution(object):\n",
    "    def multiply(self, num1, num2):\n",
    "        \"\"\"\n",
    "        :type num1: str\n",
    "        :type num2: str\n",
    "        :rtype: str\n",
    "        \"\"\"\n",
    "        num1, num2 = num1[::-1], num2[::-1]\n",
    "        m, n = len(num1), len(num2)\n",
    "        rst = [0] * (m + n)\n",
    "        for j in range(n):\n",
    "            for i in range(m):\n",
    "                t = int(num1[i]) * int(num2[j])\n",
    "                rst[i+j] += t % 10\n",
    "                rst[i+j+1] += t // 10\n",
    "        for i in range(len(rst)-1):\n",
    "            rst[i+1] += rst[i] // 10\n",
    "            rst[i] = rst[i] % 10\n",
    "        \n",
    "        rst = ''.join([str(x) for x in rst[::-1]])\n",
    "        rst = rst.lstrip('0')\n",
    "        return rst if rst else '0'"
   ]
  },
  {
   "cell_type": "code",
   "execution_count": 44,
   "metadata": {},
   "outputs": [
    {
     "data": {
      "text/plain": [
       "'492'"
      ]
     },
     "execution_count": 44,
     "metadata": {},
     "output_type": "execute_result"
    }
   ],
   "source": [
    "Solution().multiply(\"123\", \"4\")"
   ]
  },
  {
   "cell_type": "code",
   "execution_count": 27,
   "metadata": {},
   "outputs": [
    {
     "data": {
      "text/plain": [
       "98901"
      ]
     },
     "execution_count": 27,
     "metadata": {},
     "output_type": "execute_result"
    }
   ],
   "source": [
    "999 * 99"
   ]
  },
  {
   "cell_type": "code",
   "execution_count": null,
   "metadata": {},
   "outputs": [],
   "source": []
  }
 ],
 "metadata": {
  "kernelspec": {
   "display_name": "Python 3",
   "language": "python",
   "name": "python3"
  },
  "language_info": {
   "codemirror_mode": {
    "name": "ipython",
    "version": 3
   },
   "file_extension": ".py",
   "mimetype": "text/x-python",
   "name": "python",
   "nbconvert_exporter": "python",
   "pygments_lexer": "ipython3",
   "version": "3.6.10"
  }
 },
 "nbformat": 4,
 "nbformat_minor": 4
}
