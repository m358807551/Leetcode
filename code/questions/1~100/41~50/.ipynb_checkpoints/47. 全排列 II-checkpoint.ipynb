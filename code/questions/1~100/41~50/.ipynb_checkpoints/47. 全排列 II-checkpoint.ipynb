{
 "cells": [
  {
   "cell_type": "markdown",
   "metadata": {},
   "source": [
    "[47. 全排列 II](https://leetcode-cn.com/problems/permutations-ii/)"
   ]
  },
  {
   "cell_type": "code",
   "execution_count": 4,
   "metadata": {},
   "outputs": [],
   "source": [
    "from collections import Counter\n",
    "\n",
    "\n",
    "class Solution(object):\n",
    "    def permuteUnique(self, nums):\n",
    "        \"\"\"\n",
    "        :type nums: List[int]\n",
    "        :rtype: List[List[int]]\n",
    "        \"\"\"\n",
    "        self.rst, self.n, counts = [], len(nums), Counter(nums)\n",
    "        self.backtrace([], counts)\n",
    "        return self.rst\n",
    "    \n",
    "    def backtrace(self, trace, counts):\n",
    "        if len(trace) == self.n:\n",
    "            self.rst.append(trace[:])\n",
    "            return\n",
    "        \n",
    "        for num in counts:\n",
    "            if counts[num]:\n",
    "                trace.append(num)\n",
    "                counts[num] -= 1\n",
    "                self.backtrace(trace, counts)\n",
    "                trace.pop(-1)\n",
    "                counts[num] += 1"
   ]
  },
  {
   "cell_type": "code",
   "execution_count": 5,
   "metadata": {},
   "outputs": [
    {
     "data": {
      "text/plain": [
       "[[1, 1, 2], [1, 2, 1], [2, 1, 1]]"
      ]
     },
     "execution_count": 5,
     "metadata": {},
     "output_type": "execute_result"
    }
   ],
   "source": [
    "Solution().permuteUnique([1, 1, 2])"
   ]
  }
 ],
 "metadata": {
  "kernelspec": {
   "display_name": "Python 3",
   "language": "python",
   "name": "python3"
  },
  "language_info": {
   "codemirror_mode": {
    "name": "ipython",
    "version": 3
   },
   "file_extension": ".py",
   "mimetype": "text/x-python",
   "name": "python",
   "nbconvert_exporter": "python",
   "pygments_lexer": "ipython3",
   "version": "3.6.10"
  }
 },
 "nbformat": 4,
 "nbformat_minor": 4
}
