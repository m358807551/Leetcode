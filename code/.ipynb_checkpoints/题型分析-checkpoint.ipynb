{
 "cells": [
  {
   "cell_type": "code",
   "execution_count": 12,
   "metadata": {},
   "outputs": [],
   "source": [
    "import random\n",
    "import pandas as pd\n",
    "\n",
    "df = pd.read_csv(\"../data/questions.csv\")\n",
    "\n",
    "## 列规范化\n",
    "import json\n",
    "\n",
    "# 过滤掉没有type的行\n",
    "df = df[df.type != \"[]\"]\n",
    "\n",
    "df[\"title\"] = df.title.apply(eval)\n",
    "df[\"level\"] = df.level.apply(lambda x: eval(x)[0])\n",
    "df[\"type\"] = df.type.apply(eval)\n",
    "df[\"level_score\"] = df['level'].apply(lambda x: {\"简单\": 1, \"中等\": 2, \"困难\": 3}[x])"
   ]
  },
  {
   "cell_type": "markdown",
   "metadata": {},
   "source": [
    "## 题目类型计数"
   ]
  },
  {
   "cell_type": "code",
   "execution_count": 13,
   "metadata": {},
   "outputs": [
    {
     "data": {
      "text/plain": [
       "<Figure size 720x720 with 0 Axes>"
      ]
     },
     "metadata": {},
     "output_type": "display_data"
    }
   ],
   "source": [
    "from collections import defaultdict\n",
    "\n",
    "from matplotlib import pyplot as plt\n",
    "\n",
    "# mpl.rcParams['font.sans-serif'] = ['KaiTi']\n",
    "# mpl.rcParams['font.serif'] = ['KaiTi']\n",
    "figsize = 10\n",
    "plt.figure(figsize=(figsize,figsize))\n",
    "\n",
    "count = defaultdict(int)\n",
    "\n",
    "for types in df.type:\n",
    "    for type_ in types:\n",
    "        count[type_] += 1\n",
    "\n",
    "# pd.Series(count).sort_values(ascending=True).plot(kind=\"barh\")"
   ]
  },
  {
   "cell_type": "code",
   "execution_count": 14,
   "metadata": {},
   "outputs": [],
   "source": [
    "# df[df.type.apply(lambda x: \"数学\" in x)].level.value_counts().plot(kind=\"barh\")"
   ]
  },
  {
   "cell_type": "code",
   "execution_count": 15,
   "metadata": {},
   "outputs": [
    {
     "data": {
      "text/plain": [
       "1.894736842105263"
      ]
     },
     "execution_count": 15,
     "metadata": {},
     "output_type": "execute_result"
    }
   ],
   "source": [
    "df[df.type.apply(lambda x: \"链表\" in x)].level_score.mean()"
   ]
  },
  {
   "cell_type": "code",
   "execution_count": 16,
   "metadata": {},
   "outputs": [],
   "source": [
    "# 看任意一种题型的难度\n",
    "type2score = {}\n",
    "for type_ in count:\n",
    "    type2score[type_] = df[df.type.apply(lambda x: type_ in x)].level_score.mean()\n",
    "# pd.Series(type2score).sort_values()"
   ]
  },
  {
   "cell_type": "markdown",
   "metadata": {},
   "source": [
    "### 分析出题目的主类型"
   ]
  },
  {
   "cell_type": "code",
   "execution_count": 17,
   "metadata": {},
   "outputs": [],
   "source": [
    "df.index = df.title.apply(lambda x: x[0])"
   ]
  },
  {
   "cell_type": "code",
   "execution_count": 18,
   "metadata": {},
   "outputs": [],
   "source": [
    "def get_main_type(types):\n",
    "    rst = types[0]\n",
    "    for type_ in types:\n",
    "        if count[type_] < count[rst]:\n",
    "            rst = type_\n",
    "    return rst\n",
    "\n",
    "df[\"main_type\"] = df.type.apply(get_main_type)"
   ]
  },
  {
   "cell_type": "code",
   "execution_count": 19,
   "metadata": {},
   "outputs": [],
   "source": [
    "# df.pivot_table(index=\"main_type\", columns=[\"level\"], values=[\"level_score\"], aggfunc={\"level_score\": \"count\"}, fill_value=0)"
   ]
  },
  {
   "cell_type": "code",
   "execution_count": 20,
   "metadata": {},
   "outputs": [
    {
     "data": {
      "text/html": [
       "<div>\n",
       "<style scoped>\n",
       "    .dataframe tbody tr th:only-of-type {\n",
       "        vertical-align: middle;\n",
       "    }\n",
       "\n",
       "    .dataframe tbody tr th {\n",
       "        vertical-align: top;\n",
       "    }\n",
       "\n",
       "    .dataframe thead th {\n",
       "        text-align: right;\n",
       "    }\n",
       "</style>\n",
       "<table border=\"1\" class=\"dataframe\">\n",
       "  <thead>\n",
       "    <tr style=\"text-align: right;\">\n",
       "      <th></th>\n",
       "      <th>数量</th>\n",
       "      <th>难度</th>\n",
       "    </tr>\n",
       "    <tr>\n",
       "      <th>main_type</th>\n",
       "      <th></th>\n",
       "      <th></th>\n",
       "    </tr>\n",
       "  </thead>\n",
       "  <tbody>\n",
       "    <tr>\n",
       "      <th>动态规划</th>\n",
       "      <td>19</td>\n",
       "      <td>2.315789</td>\n",
       "    </tr>\n",
       "    <tr>\n",
       "      <th>回溯算法</th>\n",
       "      <td>15</td>\n",
       "      <td>2.266667</td>\n",
       "    </tr>\n",
       "    <tr>\n",
       "      <th>二分查找</th>\n",
       "      <td>13</td>\n",
       "      <td>1.923077</td>\n",
       "    </tr>\n",
       "    <tr>\n",
       "      <th>链表</th>\n",
       "      <td>12</td>\n",
       "      <td>1.833333</td>\n",
       "    </tr>\n",
       "    <tr>\n",
       "      <th>数学</th>\n",
       "      <td>12</td>\n",
       "      <td>1.583333</td>\n",
       "    </tr>\n",
       "    <tr>\n",
       "      <th>栈</th>\n",
       "      <td>10</td>\n",
       "      <td>2.200000</td>\n",
       "    </tr>\n",
       "    <tr>\n",
       "      <th>数组</th>\n",
       "      <td>10</td>\n",
       "      <td>1.800000</td>\n",
       "    </tr>\n",
       "    <tr>\n",
       "      <th>深度优先搜索</th>\n",
       "      <td>10</td>\n",
       "      <td>1.800000</td>\n",
       "    </tr>\n",
       "    <tr>\n",
       "      <th>哈希表</th>\n",
       "      <td>9</td>\n",
       "      <td>2.222222</td>\n",
       "    </tr>\n",
       "    <tr>\n",
       "      <th>双指针</th>\n",
       "      <td>9</td>\n",
       "      <td>1.444444</td>\n",
       "    </tr>\n",
       "    <tr>\n",
       "      <th>递归</th>\n",
       "      <td>8</td>\n",
       "      <td>1.750000</td>\n",
       "    </tr>\n",
       "    <tr>\n",
       "      <th>排序</th>\n",
       "      <td>7</td>\n",
       "      <td>2.142857</td>\n",
       "    </tr>\n",
       "    <tr>\n",
       "      <th>广度优先搜索</th>\n",
       "      <td>7</td>\n",
       "      <td>2.000000</td>\n",
       "    </tr>\n",
       "    <tr>\n",
       "      <th>字符串</th>\n",
       "      <td>7</td>\n",
       "      <td>1.714286</td>\n",
       "    </tr>\n",
       "    <tr>\n",
       "      <th>贪心算法</th>\n",
       "      <td>6</td>\n",
       "      <td>2.333333</td>\n",
       "    </tr>\n",
       "    <tr>\n",
       "      <th>位运算</th>\n",
       "      <td>6</td>\n",
       "      <td>1.500000</td>\n",
       "    </tr>\n",
       "    <tr>\n",
       "      <th>并查集</th>\n",
       "      <td>3</td>\n",
       "      <td>2.333333</td>\n",
       "    </tr>\n",
       "    <tr>\n",
       "      <th>分治算法</th>\n",
       "      <td>3</td>\n",
       "      <td>1.666667</td>\n",
       "    </tr>\n",
       "    <tr>\n",
       "      <th>设计</th>\n",
       "      <td>3</td>\n",
       "      <td>1.666667</td>\n",
       "    </tr>\n",
       "    <tr>\n",
       "      <th>Sliding Window</th>\n",
       "      <td>2</td>\n",
       "      <td>2.500000</td>\n",
       "    </tr>\n",
       "    <tr>\n",
       "      <th>树</th>\n",
       "      <td>2</td>\n",
       "      <td>2.000000</td>\n",
       "    </tr>\n",
       "    <tr>\n",
       "      <th>堆</th>\n",
       "      <td>1</td>\n",
       "      <td>3.000000</td>\n",
       "    </tr>\n",
       "    <tr>\n",
       "      <th>图</th>\n",
       "      <td>1</td>\n",
       "      <td>2.000000</td>\n",
       "    </tr>\n",
       "    <tr>\n",
       "      <th>队列</th>\n",
       "      <td>1</td>\n",
       "      <td>2.000000</td>\n",
       "    </tr>\n",
       "  </tbody>\n",
       "</table>\n",
       "</div>"
      ],
      "text/plain": [
       "                数量        难度\n",
       "main_type                   \n",
       "动态规划            19  2.315789\n",
       "回溯算法            15  2.266667\n",
       "二分查找            13  1.923077\n",
       "链表              12  1.833333\n",
       "数学              12  1.583333\n",
       "栈               10  2.200000\n",
       "数组              10  1.800000\n",
       "深度优先搜索          10  1.800000\n",
       "哈希表              9  2.222222\n",
       "双指针              9  1.444444\n",
       "递归               8  1.750000\n",
       "排序               7  2.142857\n",
       "广度优先搜索           7  2.000000\n",
       "字符串              7  1.714286\n",
       "贪心算法             6  2.333333\n",
       "位运算              6  1.500000\n",
       "并查集              3  2.333333\n",
       "分治算法             3  1.666667\n",
       "设计               3  1.666667\n",
       "Sliding Window   2  2.500000\n",
       "树                2  2.000000\n",
       "堆                1  3.000000\n",
       "图                1  2.000000\n",
       "队列               1  2.000000"
      ]
     },
     "execution_count": 20,
     "metadata": {},
     "output_type": "execute_result"
    }
   ],
   "source": [
    "df2 = df.pivot_table(\n",
    "    index='main_type', \n",
    "    values=[\"level\", \"level_score\"],\n",
    "    aggfunc={\"level\": \"count\", \"level_score\": \"mean\"}\n",
    ").sort_values([\"level\", \"level_score\"], ascending=[False, False]).rename(columns={\"level\": \"数量\", \"level_score\": \"难度\"})\n",
    "df2"
   ]
  },
  {
   "cell_type": "code",
   "execution_count": 27,
   "metadata": {},
   "outputs": [
    {
     "data": {
      "text/html": [
       "<div>\n",
       "<style scoped>\n",
       "    .dataframe tbody tr th:only-of-type {\n",
       "        vertical-align: middle;\n",
       "    }\n",
       "\n",
       "    .dataframe tbody tr th {\n",
       "        vertical-align: top;\n",
       "    }\n",
       "\n",
       "    .dataframe thead th {\n",
       "        text-align: right;\n",
       "    }\n",
       "</style>\n",
       "<table border=\"1\" class=\"dataframe\">\n",
       "  <thead>\n",
       "    <tr style=\"text-align: right;\">\n",
       "      <th></th>\n",
       "      <th>title</th>\n",
       "      <th>level</th>\n",
       "      <th>type</th>\n",
       "      <th>level_score</th>\n",
       "      <th>main_type</th>\n",
       "    </tr>\n",
       "    <tr>\n",
       "      <th>title</th>\n",
       "      <th></th>\n",
       "      <th></th>\n",
       "      <th></th>\n",
       "      <th></th>\n",
       "      <th></th>\n",
       "    </tr>\n",
       "  </thead>\n",
       "  <tbody>\n",
       "    <tr>\n",
       "      <th>2</th>\n",
       "      <td>[2, . , 两数相加]</td>\n",
       "      <td>中等</td>\n",
       "      <td>[递归, 链表, 数学]</td>\n",
       "      <td>2</td>\n",
       "      <td>递归</td>\n",
       "    </tr>\n",
       "    <tr>\n",
       "      <th>17</th>\n",
       "      <td>[17, . , 电话号码的字母组合]</td>\n",
       "      <td>中等</td>\n",
       "      <td>[深度优先搜索, 递归, 字符串, 回溯算法]</td>\n",
       "      <td>2</td>\n",
       "      <td>递归</td>\n",
       "    </tr>\n",
       "    <tr>\n",
       "      <th>21</th>\n",
       "      <td>[21, . , 合并两个有序链表]</td>\n",
       "      <td>简单</td>\n",
       "      <td>[递归, 链表]</td>\n",
       "      <td>1</td>\n",
       "      <td>递归</td>\n",
       "    </tr>\n",
       "    <tr>\n",
       "      <th>24</th>\n",
       "      <td>[24, . , 两两交换链表中的节点]</td>\n",
       "      <td>中等</td>\n",
       "      <td>[递归, 链表]</td>\n",
       "      <td>2</td>\n",
       "      <td>递归</td>\n",
       "    </tr>\n",
       "    <tr>\n",
       "      <th>98</th>\n",
       "      <td>[98, . , 验证二叉搜索树]</td>\n",
       "      <td>中等</td>\n",
       "      <td>[树, 深度优先搜索, 递归]</td>\n",
       "      <td>2</td>\n",
       "      <td>递归</td>\n",
       "    </tr>\n",
       "    <tr>\n",
       "      <th>104</th>\n",
       "      <td>[104, . , 二叉树的最大深度]</td>\n",
       "      <td>简单</td>\n",
       "      <td>[树, 深度优先搜索, 递归]</td>\n",
       "      <td>1</td>\n",
       "      <td>递归</td>\n",
       "    </tr>\n",
       "    <tr>\n",
       "      <th>110</th>\n",
       "      <td>[110, . , 平衡二叉树]</td>\n",
       "      <td>简单</td>\n",
       "      <td>[树, 深度优先搜索, 递归]</td>\n",
       "      <td>1</td>\n",
       "      <td>递归</td>\n",
       "    </tr>\n",
       "    <tr>\n",
       "      <th>124</th>\n",
       "      <td>[124, . , 二叉树中的最大路径和]</td>\n",
       "      <td>困难</td>\n",
       "      <td>[树, 深度优先搜索, 递归]</td>\n",
       "      <td>3</td>\n",
       "      <td>递归</td>\n",
       "    </tr>\n",
       "  </tbody>\n",
       "</table>\n",
       "</div>"
      ],
      "text/plain": [
       "                       title level                     type  level_score  \\\n",
       "title                                                                      \n",
       "2              [2, . , 两数相加]    中等             [递归, 链表, 数学]            2   \n",
       "17       [17, . , 电话号码的字母组合]    中等  [深度优先搜索, 递归, 字符串, 回溯算法]            2   \n",
       "21        [21, . , 合并两个有序链表]    简单                 [递归, 链表]            1   \n",
       "24      [24, . , 两两交换链表中的节点]    中等                 [递归, 链表]            2   \n",
       "98         [98, . , 验证二叉搜索树]    中等          [树, 深度优先搜索, 递归]            2   \n",
       "104      [104, . , 二叉树的最大深度]    简单          [树, 深度优先搜索, 递归]            1   \n",
       "110         [110, . , 平衡二叉树]    简单          [树, 深度优先搜索, 递归]            1   \n",
       "124    [124, . , 二叉树中的最大路径和]    困难          [树, 深度优先搜索, 递归]            3   \n",
       "\n",
       "      main_type  \n",
       "title            \n",
       "2            递归  \n",
       "17           递归  \n",
       "21           递归  \n",
       "24           递归  \n",
       "98           递归  \n",
       "104          递归  \n",
       "110          递归  \n",
       "124          递归  "
      ]
     },
     "execution_count": 27,
     "metadata": {},
     "output_type": "execute_result"
    }
   ],
   "source": [
    "df[df.main_type==\"递归\"]"
   ]
  },
  {
   "cell_type": "code",
   "execution_count": 22,
   "metadata": {},
   "outputs": [
    {
     "name": "stderr",
     "output_type": "stream",
     "text": [
      "100%|██████████| 6/6 [00:00<00:00, 17142.93it/s]\n"
     ]
    },
    {
     "data": {
      "text/plain": [
       "[0, 1, 1, 0, 0, 1]"
      ]
     },
     "execution_count": 22,
     "metadata": {},
     "output_type": "execute_result"
    }
   ],
   "source": [
    "from tqdm import tqdm\n",
    "rst = []\n",
    "for _ in tqdm(range(6)):\n",
    "    rst.append(random.randint(0, 1))\n",
    "rst"
   ]
  }
 ],
 "metadata": {
  "kernelspec": {
   "display_name": "Python 3",
   "language": "python",
   "name": "python3"
  },
  "language_info": {
   "codemirror_mode": {
    "name": "ipython",
    "version": 3
   },
   "file_extension": ".py",
   "mimetype": "text/x-python",
   "name": "python",
   "nbconvert_exporter": "python",
   "pygments_lexer": "ipython3",
   "version": "3.6.10"
  }
 },
 "nbformat": 4,
 "nbformat_minor": 4
}
